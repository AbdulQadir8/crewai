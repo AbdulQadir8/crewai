{
  "cells": [
    {
      "cell_type": "code",
      "execution_count": 4,
      "metadata": {
        "id": "IeNdsHtp6iW1"
      },
      "outputs": [],
      "source": [
        "import os\n",
        "\n",
        "from google.colab import userdata\n",
        "\n",
        "os.environ['GEMINI_API_KEY'] =  userdata.get('GEMINI_API_KEY')"
      ]
    },
    {
      "cell_type": "code",
      "execution_count": 5,
      "metadata": {
        "colab": {
          "base_uri": "https://localhost:8080/"
        },
        "id": "_YdK7jqT7WU2",
        "outputId": "84f97850-acce-4ae2-ebe4-9aca3460cedd"
      },
      "outputs": [
        {
          "output_type": "stream",
          "name": "stdout",
          "text": [
            "\u001b[2K     \u001b[90m━━━━━━━━━━━━━━━━━━━━━━━━━━━━━━━━━━━━━━━━\u001b[0m \u001b[32m42.5/42.5 kB\u001b[0m \u001b[31m2.9 MB/s\u001b[0m eta \u001b[36m0:00:00\u001b[0m\n",
            "\u001b[2K     \u001b[90m━━━━━━━━━━━━━━━━━━━━━━━━━━━━━━━━━━━━━━━━\u001b[0m \u001b[32m67.3/67.3 kB\u001b[0m \u001b[31m5.5 MB/s\u001b[0m eta \u001b[36m0:00:00\u001b[0m\n",
            "\u001b[?25h  Installing build dependencies ... \u001b[?25l\u001b[?25hdone\n",
            "  Getting requirements to build wheel ... \u001b[?25l\u001b[?25hdone\n",
            "  Preparing metadata (pyproject.toml) ... \u001b[?25l\u001b[?25hdone\n",
            "\u001b[2K     \u001b[90m━━━━━━━━━━━━━━━━━━━━━━━━━━━━━━━━━━━━━━━━\u001b[0m \u001b[32m48.2/48.2 kB\u001b[0m \u001b[31m3.0 MB/s\u001b[0m eta \u001b[36m0:00:00\u001b[0m\n",
            "\u001b[2K   \u001b[90m━━━━━━━━━━━━━━━━━━━━━━━━━━━━━━━━━━━━━━━━\u001b[0m \u001b[32m240.2/240.2 kB\u001b[0m \u001b[31m10.7 MB/s\u001b[0m eta \u001b[36m0:00:00\u001b[0m\n",
            "\u001b[2K   \u001b[90m━━━━━━━━━━━━━━━━━━━━━━━━━━━━━━━━━━━━━━━━\u001b[0m \u001b[32m6.7/6.7 MB\u001b[0m \u001b[31m92.5 MB/s\u001b[0m eta \u001b[36m0:00:00\u001b[0m\n",
            "\u001b[2K   \u001b[90m━━━━━━━━━━━━━━━━━━━━━━━━━━━━━━━━━━━━━━━━\u001b[0m \u001b[32m545.9/545.9 kB\u001b[0m \u001b[31m31.0 MB/s\u001b[0m eta \u001b[36m0:00:00\u001b[0m\n",
            "\u001b[2K   \u001b[90m━━━━━━━━━━━━━━━━━━━━━━━━━━━━━━━━━━━━━━━━\u001b[0m \u001b[32m134.3/134.3 kB\u001b[0m \u001b[31m8.6 MB/s\u001b[0m eta \u001b[36m0:00:00\u001b[0m\n",
            "\u001b[2K   \u001b[90m━━━━━━━━━━━━━━━━━━━━━━━━━━━━━━━━━━━━━━━━\u001b[0m \u001b[32m2.4/2.4 MB\u001b[0m \u001b[31m77.1 MB/s\u001b[0m eta \u001b[36m0:00:00\u001b[0m\n",
            "\u001b[2K   \u001b[90m━━━━━━━━━━━━━━━━━━━━━━━━━━━━━━━━━━━━━━━━\u001b[0m \u001b[32m147.8/147.8 kB\u001b[0m \u001b[31m8.3 MB/s\u001b[0m eta \u001b[36m0:00:00\u001b[0m\n",
            "\u001b[2K   \u001b[90m━━━━━━━━━━━━━━━━━━━━━━━━━━━━━━━━━━━━━━━━\u001b[0m \u001b[32m211.4/211.4 kB\u001b[0m \u001b[31m13.1 MB/s\u001b[0m eta \u001b[36m0:00:00\u001b[0m\n",
            "\u001b[2K   \u001b[90m━━━━━━━━━━━━━━━━━━━━━━━━━━━━━━━━━━━━━━━━\u001b[0m \u001b[32m628.3/628.3 kB\u001b[0m \u001b[31m34.9 MB/s\u001b[0m eta \u001b[36m0:00:00\u001b[0m\n",
            "\u001b[2K   \u001b[90m━━━━━━━━━━━━━━━━━━━━━━━━━━━━━━━━━━━━━━━━\u001b[0m \u001b[32m79.2/79.2 kB\u001b[0m \u001b[31m5.6 MB/s\u001b[0m eta \u001b[36m0:00:00\u001b[0m\n",
            "\u001b[2K   \u001b[90m━━━━━━━━━━━━━━━━━━━━━━━━━━━━━━━━━━━━━━━━\u001b[0m \u001b[32m32.6/32.6 MB\u001b[0m \u001b[31m31.4 MB/s\u001b[0m eta \u001b[36m0:00:00\u001b[0m\n",
            "\u001b[2K   \u001b[90m━━━━━━━━━━━━━━━━━━━━━━━━━━━━━━━━━━━━━━━━\u001b[0m \u001b[32m65.0/65.0 kB\u001b[0m \u001b[31m4.1 MB/s\u001b[0m eta \u001b[36m0:00:00\u001b[0m\n",
            "\u001b[2K   \u001b[90m━━━━━━━━━━━━━━━━━━━━━━━━━━━━━━━━━━━━━━━━\u001b[0m \u001b[32m55.9/55.9 kB\u001b[0m \u001b[31m3.3 MB/s\u001b[0m eta \u001b[36m0:00:00\u001b[0m\n",
            "\u001b[2K   \u001b[90m━━━━━━━━━━━━━━━━━━━━━━━━━━━━━━━━━━━━━━━━\u001b[0m \u001b[32m118.7/118.7 kB\u001b[0m \u001b[31m7.8 MB/s\u001b[0m eta \u001b[36m0:00:00\u001b[0m\n",
            "\u001b[2K   \u001b[90m━━━━━━━━━━━━━━━━━━━━━━━━━━━━━━━━━━━━━━━━\u001b[0m \u001b[32m177.4/177.4 kB\u001b[0m \u001b[31m11.5 MB/s\u001b[0m eta \u001b[36m0:00:00\u001b[0m\n",
            "\u001b[2K   \u001b[90m━━━━━━━━━━━━━━━━━━━━━━━━━━━━━━━━━━━━━━━━\u001b[0m \u001b[32m59.5/59.5 kB\u001b[0m \u001b[31m3.9 MB/s\u001b[0m eta \u001b[36m0:00:00\u001b[0m\n",
            "\u001b[2K   \u001b[90m━━━━━━━━━━━━━━━━━━━━━━━━━━━━━━━━━━━━━━━━\u001b[0m \u001b[32m5.6/5.6 MB\u001b[0m \u001b[31m104.6 MB/s\u001b[0m eta \u001b[36m0:00:00\u001b[0m\n",
            "\u001b[2K   \u001b[90m━━━━━━━━━━━━━━━━━━━━━━━━━━━━━━━━━━━━━━━━\u001b[0m \u001b[32m5.7/5.7 MB\u001b[0m \u001b[31m110.2 MB/s\u001b[0m eta \u001b[36m0:00:00\u001b[0m\n",
            "\u001b[2K   \u001b[90m━━━━━━━━━━━━━━━━━━━━━━━━━━━━━━━━━━━━━━━━\u001b[0m \u001b[32m57.6/57.6 kB\u001b[0m \u001b[31m3.7 MB/s\u001b[0m eta \u001b[36m0:00:00\u001b[0m\n",
            "\u001b[2K   \u001b[90m━━━━━━━━━━━━━━━━━━━━━━━━━━━━━━━━━━━━━━━━\u001b[0m \u001b[32m756.0/756.0 kB\u001b[0m \u001b[31m42.3 MB/s\u001b[0m eta \u001b[36m0:00:00\u001b[0m\n",
            "\u001b[2K   \u001b[90m━━━━━━━━━━━━━━━━━━━━━━━━━━━━━━━━━━━━━━━━\u001b[0m \u001b[32m236.0/236.0 kB\u001b[0m \u001b[31m16.3 MB/s\u001b[0m eta \u001b[36m0:00:00\u001b[0m\n",
            "\u001b[2K   \u001b[90m━━━━━━━━━━━━━━━━━━━━━━━━━━━━━━━━━━━━━━━━\u001b[0m \u001b[32m16.2/16.2 MB\u001b[0m \u001b[31m107.5 MB/s\u001b[0m eta \u001b[36m0:00:00\u001b[0m\n",
            "\u001b[2K   \u001b[90m━━━━━━━━━━━━━━━━━━━━━━━━━━━━━━━━━━━━━━━━\u001b[0m \u001b[32m231.8/231.8 kB\u001b[0m \u001b[31m16.2 MB/s\u001b[0m eta \u001b[36m0:00:00\u001b[0m\n",
            "\u001b[2K   \u001b[90m━━━━━━━━━━━━━━━━━━━━━━━━━━━━━━━━━━━━━━━━\u001b[0m \u001b[32m284.2/284.2 kB\u001b[0m \u001b[31m19.8 MB/s\u001b[0m eta \u001b[36m0:00:00\u001b[0m\n",
            "\u001b[2K   \u001b[90m━━━━━━━━━━━━━━━━━━━━━━━━━━━━━━━━━━━━━━━━\u001b[0m \u001b[32m253.9/253.9 kB\u001b[0m \u001b[31m19.0 MB/s\u001b[0m eta \u001b[36m0:00:00\u001b[0m\n",
            "\u001b[2K   \u001b[90m━━━━━━━━━━━━━━━━━━━━━━━━━━━━━━━━━━━━━━━━\u001b[0m \u001b[32m94.9/94.9 kB\u001b[0m \u001b[31m6.7 MB/s\u001b[0m eta \u001b[36m0:00:00\u001b[0m\n",
            "\u001b[2K   \u001b[90m━━━━━━━━━━━━━━━━━━━━━━━━━━━━━━━━━━━━━━━━\u001b[0m \u001b[32m131.6/131.6 kB\u001b[0m \u001b[31m9.5 MB/s\u001b[0m eta \u001b[36m0:00:00\u001b[0m\n",
            "\u001b[2K   \u001b[90m━━━━━━━━━━━━━━━━━━━━━━━━━━━━━━━━━━━━━━━━\u001b[0m \u001b[32m76.4/76.4 kB\u001b[0m \u001b[31m5.9 MB/s\u001b[0m eta \u001b[36m0:00:00\u001b[0m\n",
            "\u001b[2K   \u001b[90m━━━━━━━━━━━━━━━━━━━━━━━━━━━━━━━━━━━━━━━━\u001b[0m \u001b[32m2.0/2.0 MB\u001b[0m \u001b[31m73.4 MB/s\u001b[0m eta \u001b[36m0:00:00\u001b[0m\n",
            "\u001b[2K   \u001b[90m━━━━━━━━━━━━━━━━━━━━━━━━━━━━━━━━━━━━━━━━\u001b[0m \u001b[32m45.1/45.1 kB\u001b[0m \u001b[31m3.0 MB/s\u001b[0m eta \u001b[36m0:00:00\u001b[0m\n",
            "\u001b[2K   \u001b[90m━━━━━━━━━━━━━━━━━━━━━━━━━━━━━━━━━━━━━━━━\u001b[0m \u001b[32m2.5/2.5 MB\u001b[0m \u001b[31m77.0 MB/s\u001b[0m eta \u001b[36m0:00:00\u001b[0m\n",
            "\u001b[2K   \u001b[90m━━━━━━━━━━━━━━━━━━━━━━━━━━━━━━━━━━━━━━━━\u001b[0m \u001b[32m1.0/1.0 MB\u001b[0m \u001b[31m48.5 MB/s\u001b[0m eta \u001b[36m0:00:00\u001b[0m\n",
            "\u001b[2K   \u001b[90m━━━━━━━━━━━━━━━━━━━━━━━━━━━━━━━━━━━━━━━━\u001b[0m \u001b[32m50.9/50.9 kB\u001b[0m \u001b[31m3.4 MB/s\u001b[0m eta \u001b[36m0:00:00\u001b[0m\n",
            "\u001b[2K   \u001b[90m━━━━━━━━━━━━━━━━━━━━━━━━━━━━━━━━━━━━━━━━\u001b[0m \u001b[32m311.8/311.8 kB\u001b[0m \u001b[31m20.2 MB/s\u001b[0m eta \u001b[36m0:00:00\u001b[0m\n",
            "\u001b[2K   \u001b[90m━━━━━━━━━━━━━━━━━━━━━━━━━━━━━━━━━━━━━━━━\u001b[0m \u001b[32m106.5/106.5 kB\u001b[0m \u001b[31m7.5 MB/s\u001b[0m eta \u001b[36m0:00:00\u001b[0m\n",
            "\u001b[2K   \u001b[90m━━━━━━━━━━━━━━━━━━━━━━━━━━━━━━━━━━━━━━━━\u001b[0m \u001b[32m101.6/101.6 kB\u001b[0m \u001b[31m7.1 MB/s\u001b[0m eta \u001b[36m0:00:00\u001b[0m\n",
            "\u001b[2K   \u001b[90m━━━━━━━━━━━━━━━━━━━━━━━━━━━━━━━━━━━━━━━━\u001b[0m \u001b[32m13.3/13.3 MB\u001b[0m \u001b[31m103.6 MB/s\u001b[0m eta \u001b[36m0:00:00\u001b[0m\n",
            "\u001b[2K   \u001b[90m━━━━━━━━━━━━━━━━━━━━━━━━━━━━━━━━━━━━━━━━\u001b[0m \u001b[32m77.8/77.8 kB\u001b[0m \u001b[31m4.8 MB/s\u001b[0m eta \u001b[36m0:00:00\u001b[0m\n",
            "\u001b[2K   \u001b[90m━━━━━━━━━━━━━━━━━━━━━━━━━━━━━━━━━━━━━━━━\u001b[0m \u001b[32m35.7/35.7 MB\u001b[0m \u001b[31m21.6 MB/s\u001b[0m eta \u001b[36m0:00:00\u001b[0m\n",
            "\u001b[2K   \u001b[90m━━━━━━━━━━━━━━━━━━━━━━━━━━━━━━━━━━━━━━━━\u001b[0m \u001b[32m302.0/302.0 kB\u001b[0m \u001b[31m18.2 MB/s\u001b[0m eta \u001b[36m0:00:00\u001b[0m\n",
            "\u001b[2K   \u001b[90m━━━━━━━━━━━━━━━━━━━━━━━━━━━━━━━━━━━━━━━━\u001b[0m \u001b[32m2.9/2.9 MB\u001b[0m \u001b[31m59.1 MB/s\u001b[0m eta \u001b[36m0:00:00\u001b[0m\n",
            "\u001b[2K   \u001b[90m━━━━━━━━━━━━━━━━━━━━━━━━━━━━━━━━━━━━━━━━\u001b[0m \u001b[32m71.1/71.1 kB\u001b[0m \u001b[31m4.0 MB/s\u001b[0m eta \u001b[36m0:00:00\u001b[0m\n",
            "\u001b[2K   \u001b[90m━━━━━━━━━━━━━━━━━━━━━━━━━━━━━━━━━━━━━━━━\u001b[0m \u001b[32m1.1/1.1 MB\u001b[0m \u001b[31m46.8 MB/s\u001b[0m eta \u001b[36m0:00:00\u001b[0m\n",
            "\u001b[2K   \u001b[90m━━━━━━━━━━━━━━━━━━━━━━━━━━━━━━━━━━━━━━━━\u001b[0m \u001b[32m3.0/3.0 MB\u001b[0m \u001b[31m85.8 MB/s\u001b[0m eta \u001b[36m0:00:00\u001b[0m\n",
            "\u001b[2K   \u001b[90m━━━━━━━━━━━━━━━━━━━━━━━━━━━━━━━━━━━━━━━━\u001b[0m \u001b[32m62.3/62.3 kB\u001b[0m \u001b[31m3.9 MB/s\u001b[0m eta \u001b[36m0:00:00\u001b[0m\n",
            "\u001b[2K   \u001b[90m━━━━━━━━━━━━━━━━━━━━━━━━━━━━━━━━━━━━━━━━\u001b[0m \u001b[32m3.3/3.3 MB\u001b[0m \u001b[31m76.3 MB/s\u001b[0m eta \u001b[36m0:00:00\u001b[0m\n",
            "\u001b[2K   \u001b[90m━━━━━━━━━━━━━━━━━━━━━━━━━━━━━━━━━━━━━━━━\u001b[0m \u001b[32m459.8/459.8 kB\u001b[0m \u001b[31m26.7 MB/s\u001b[0m eta \u001b[36m0:00:00\u001b[0m\n",
            "\u001b[2K   \u001b[90m━━━━━━━━━━━━━━━━━━━━━━━━━━━━━━━━━━━━━━━━\u001b[0m \u001b[32m1.6/1.6 MB\u001b[0m \u001b[31m50.6 MB/s\u001b[0m eta \u001b[36m0:00:00\u001b[0m\n",
            "\u001b[2K   \u001b[90m━━━━━━━━━━━━━━━━━━━━━━━━━━━━━━━━━━━━━━━━\u001b[0m \u001b[32m415.1/415.1 kB\u001b[0m \u001b[31m25.1 MB/s\u001b[0m eta \u001b[36m0:00:00\u001b[0m\n",
            "\u001b[2K   \u001b[90m━━━━━━━━━━━━━━━━━━━━━━━━━━━━━━━━━━━━━━━━\u001b[0m \u001b[32m209.2/209.2 kB\u001b[0m \u001b[31m16.4 MB/s\u001b[0m eta \u001b[36m0:00:00\u001b[0m\n",
            "\u001b[2K   \u001b[90m━━━━━━━━━━━━━━━━━━━━━━━━━━━━━━━━━━━━━━━━\u001b[0m \u001b[32m319.7/319.7 kB\u001b[0m \u001b[31m24.3 MB/s\u001b[0m eta \u001b[36m0:00:00\u001b[0m\n",
            "\u001b[2K   \u001b[90m━━━━━━━━━━━━━━━━━━━━━━━━━━━━━━━━━━━━━━━━\u001b[0m \u001b[32m3.0/3.0 MB\u001b[0m \u001b[31m68.9 MB/s\u001b[0m eta \u001b[36m0:00:00\u001b[0m\n",
            "\u001b[2K   \u001b[90m━━━━━━━━━━━━━━━━━━━━━━━━━━━━━━━━━━━━━━━━\u001b[0m \u001b[32m508.0/508.0 kB\u001b[0m \u001b[31m27.0 MB/s\u001b[0m eta \u001b[36m0:00:00\u001b[0m\n",
            "\u001b[2K   \u001b[90m━━━━━━━━━━━━━━━━━━━━━━━━━━━━━━━━━━━━━━━━\u001b[0m \u001b[32m306.7/306.7 kB\u001b[0m \u001b[31m19.6 MB/s\u001b[0m eta \u001b[36m0:00:00\u001b[0m\n",
            "\u001b[2K   \u001b[90m━━━━━━━━━━━━━━━━━━━━━━━━━━━━━━━━━━━━━━━━\u001b[0m \u001b[32m72.0/72.0 kB\u001b[0m \u001b[31m5.1 MB/s\u001b[0m eta \u001b[36m0:00:00\u001b[0m\n",
            "\u001b[2K   \u001b[90m━━━━━━━━━━━━━━━━━━━━━━━━━━━━━━━━━━━━━━━━\u001b[0m \u001b[32m4.0/4.0 MB\u001b[0m \u001b[31m73.2 MB/s\u001b[0m eta \u001b[36m0:00:00\u001b[0m\n",
            "\u001b[2K   \u001b[90m━━━━━━━━━━━━━━━━━━━━━━━━━━━━━━━━━━━━━━━━\u001b[0m \u001b[32m452.6/452.6 kB\u001b[0m \u001b[31m26.1 MB/s\u001b[0m eta \u001b[36m0:00:00\u001b[0m\n",
            "\u001b[2K   \u001b[90m━━━━━━━━━━━━━━━━━━━━━━━━━━━━━━━━━━━━━━━━\u001b[0m \u001b[32m46.0/46.0 kB\u001b[0m \u001b[31m3.0 MB/s\u001b[0m eta \u001b[36m0:00:00\u001b[0m\n",
            "\u001b[2K   \u001b[90m━━━━━━━━━━━━━━━━━━━━━━━━━━━━━━━━━━━━━━━━\u001b[0m \u001b[32m78.5/78.5 kB\u001b[0m \u001b[31m5.6 MB/s\u001b[0m eta \u001b[36m0:00:00\u001b[0m\n",
            "\u001b[2K   \u001b[90m━━━━━━━━━━━━━━━━━━━━━━━━━━━━━━━━━━━━━━━━\u001b[0m \u001b[32m2.5/2.5 MB\u001b[0m \u001b[31m90.5 MB/s\u001b[0m eta \u001b[36m0:00:00\u001b[0m\n",
            "\u001b[2K   \u001b[90m━━━━━━━━━━━━━━━━━━━━━━━━━━━━━━━━━━━━━━━━\u001b[0m \u001b[32m86.8/86.8 kB\u001b[0m \u001b[31m6.6 MB/s\u001b[0m eta \u001b[36m0:00:00\u001b[0m\n",
            "\u001b[2K   \u001b[90m━━━━━━━━━━━━━━━━━━━━━━━━━━━━━━━━━━━━━━━━\u001b[0m \u001b[32m50.9/50.9 kB\u001b[0m \u001b[31m3.6 MB/s\u001b[0m eta \u001b[36m0:00:00\u001b[0m\n",
            "\u001b[?25h  Building wheel for pypika (pyproject.toml) ... \u001b[?25l\u001b[?25hdone\n",
            "\u001b[31mERROR: pip's dependency resolver does not currently take into account all the packages that are installed. This behaviour is the source of the following dependency conflicts.\n",
            "transformers 4.48.3 requires tokenizers<0.22,>=0.21, but you have tokenizers 0.20.3 which is incompatible.\u001b[0m\u001b[31m\n",
            "\u001b[0m"
          ]
        }
      ],
      "source": [
        "!pip install -Uq crewai crewai-tools"
      ]
    },
    {
      "cell_type": "code",
      "execution_count": 6,
      "metadata": {
        "id": "zMLRj8hc7j-3"
      },
      "outputs": [],
      "source": [
        "import nest_asyncio\n",
        "nest_asyncio.apply()"
      ]
    },
    {
      "cell_type": "code",
      "execution_count": 7,
      "metadata": {
        "id": "0S-tKGRo7q9_",
        "colab": {
          "base_uri": "https://localhost:8080/"
        },
        "outputId": "f0966c32-7f9f-4cdc-f2da-6988e99362d5"
      },
      "outputs": [
        {
          "output_type": "stream",
          "name": "stdout",
          "text": [
            "\u001b[1m\u001b[35m Flow started with ID: 79b6c79c-30bb-4385-b68a-5d342f111cb4\u001b[00m\n",
            "step1\n",
            "step2\n"
          ]
        }
      ],
      "source": [
        "\n",
        "\n",
        "from crewai.flow.flow import Flow, start, listen\n",
        "\n",
        "\n",
        "class MyFlow(Flow):\n",
        "\n",
        "  @start()\n",
        "  def function1(self):\n",
        "    print(\"step1\")\n",
        "\n",
        "  @listen(function1)\n",
        "  def function2(self):\n",
        "    print(\"step2\")\n",
        "\n",
        "obj = MyFlow()\n",
        "obj.kickoff()"
      ]
    },
    {
      "cell_type": "code",
      "execution_count": 8,
      "metadata": {
        "colab": {
          "base_uri": "https://localhost:8080/",
          "height": 35
        },
        "id": "GH5eD9w970mS",
        "outputId": "805c572b-b1da-4554-aae3-ed163834a888"
      },
      "outputs": [
        {
          "output_type": "execute_result",
          "data": {
            "text/plain": [
              "'The capital of France is **Paris**.\\n'"
            ],
            "application/vnd.google.colaboratory.intrinsic+json": {
              "type": "string"
            }
          },
          "metadata": {},
          "execution_count": 8
        }
      ],
      "source": [
        "\n",
        "from crewai import LLM\n",
        "\n",
        "llm1 = LLM(\n",
        "    model=\"gemini/gemini-2.0-flash\",\n",
        ")\n",
        "\n",
        "llm1.call(\"What is the capital of France?\")"
      ]
    },
    {
      "cell_type": "code",
      "execution_count": 9,
      "metadata": {
        "id": "vYVa0OVZ76vj"
      },
      "outputs": [],
      "source": [
        "google_embedder = {\n",
        "    \"provider\": \"google\",\n",
        "    \"config\": {\n",
        "         \"model\": \"models/text-embedding-004\",\n",
        "         \"api_key\": userdata.get('GEMINI_API_KEY'),\n",
        "         }\n",
        "}"
      ]
    },
    {
      "cell_type": "code",
      "execution_count": 6,
      "metadata": {
        "colab": {
          "base_uri": "https://localhost:8080/",
          "height": 173
        },
        "id": "mS6Q26-V8BF5",
        "outputId": "a6b3d886-4257-4dc1-d0f4-65d1b77ceb9c"
      },
      "outputs": [
        {
          "output_type": "stream",
          "name": "stdout",
          "text": [
            "\u001b[1m\u001b[95m# Agent:\u001b[00m \u001b[1m\u001b[92mAbout User\u001b[00m\n",
            "\u001b[95m## Task:\u001b[00m \u001b[92mAnswer the following questions about the user: What city does Muhammad Qasim live in and how old is he?\u001b[00m\n",
            "\n",
            "\n",
            "\u001b[1m\u001b[95m# Agent:\u001b[00m \u001b[1m\u001b[92mAbout User\u001b[00m\n",
            "\u001b[95m## Final Answer:\u001b[00m \u001b[92m\n",
            "Muhammad Qasim lives in Karachi, Pakistan, and he is 30 years old.\u001b[00m\n",
            "\n",
            "\n"
          ]
        }
      ],
      "source": [
        "from crewai import Agent, Task, Crew, Process, LLM\n",
        "from crewai.knowledge.source.string_knowledge_source import StringKnowledgeSource\n",
        "\n",
        "# Create a knowledge source\n",
        "content = \"Users name is Muhammad Qasim. He is 30 years old and lives in Karchi, Pakistan. He is working as Chief Data Scientist at CancerClarity LLC\"\n",
        "string_source = StringKnowledgeSource(\n",
        "    content=content,\n",
        ")\n",
        "\n",
        "\n",
        "# Create an agent with the knowledge store\n",
        "agent = Agent(\n",
        "    role=\"About User\",\n",
        "    goal=\"You know everything about the user.\",\n",
        "    backstory=\"\"\"You are a master at understanding people and their preferences.\"\"\",\n",
        "    verbose=True,\n",
        "    allow_delegation=False,\n",
        "    llm=llm1,\n",
        ")\n",
        "task = Task(\n",
        "    description=\"Answer the following questions about the user: {question}\",\n",
        "    expected_output=\"An answer to the question.\",\n",
        "    agent=agent,\n",
        ")\n",
        "\n",
        "crew = Crew(\n",
        "    memory=True,\n",
        "    agents=[agent],\n",
        "    tasks=[task],\n",
        "    verbose=True,\n",
        "    process=Process.sequential,\n",
        "    knowledge_sources=[string_source], # Enable knowledge by adding the sources here. You can also add more sources to the sources list.\n",
        "    embedder=google_embedder\n",
        "\n",
        ")\n",
        "\n",
        "result = crew.kickoff(inputs={\"question\": \"What city does Muhammad Qasim live in and how old is he?\"})"
      ]
    },
    {
      "cell_type": "code",
      "source": [
        "import os\n",
        "os.environ['CREWAI_STORAGE_DIR']='/my_crew1'"
      ],
      "metadata": {
        "id": "wErYCpUktNqH"
      },
      "execution_count": 7,
      "outputs": []
    },
    {
      "cell_type": "code",
      "source": [
        "from crewai import LLM\n",
        "\n",
        "llm1 = LLM(\n",
        "    model=\"gemini/gemini-2.0-flash\",\n",
        ")"
      ],
      "metadata": {
        "id": "pCyJ5OSLtn8F"
      },
      "execution_count": 9,
      "outputs": []
    },
    {
      "cell_type": "code",
      "source": [
        "from crewai import Crew, Process\n",
        "from crewai.memory import LongTermMemory, ShortTermMemory, EntityMemory\n",
        "# from crewai.memory.storage import LTMSQLiteStorage, RAGStorage\n",
        "from crewai.memory.storage.ltm_sqlite_storage import LTMSQLiteStorage\n",
        "from crewai.memory.storage.rag_storage import RAGStorage\n",
        "\n",
        "from typing import List, Optional\n",
        "\n",
        "# Create An agent with the knowledge store\n",
        "agent = Agent(\n",
        "    role=\"About User\",\n",
        "    goal=\"You know everything about the user.\",\n",
        "    backstory=\"\"\"You are a master at understanding people and their preferences.\"\"\",\n",
        "    verbose=True,\n",
        "    allow_delegation=False,\n",
        "    llm=llm1,\n",
        ")\n",
        "task = Task(\n",
        "    description=\"Answer the following questions about the user: {question}\",\n",
        "    expected_output=\"An answer to the question.\",\n",
        "    agent=agent,\n",
        ")\n",
        "\n",
        "crew =  Crew(\n",
        "    agents=[agent],\n",
        "    tasks=[task],\n",
        "    process = Process.sequential,\n",
        "    memory=True,\n",
        "    # Long-term memory for persistence storage across sessions\n",
        "    long_term_memory= LongTermMemory(\n",
        "        storage=LTMSQLiteStorage(\n",
        "            db_path=\"./my_crew2/long_term_memory_storage1.db\"\n",
        "        )\n",
        "    ),\n",
        "\n",
        "    # Short-term memory for current context using RAG\n",
        "    short_term_memory= ShortTermMemory(\n",
        "        storage=RAGStorage(\n",
        "            embedder_config=google_embedder,\n",
        "            type=\"short_term\",\n",
        "            path=\"./my_crew2/short_term1/\"\n",
        "        )\n",
        "    ),\n",
        "\n",
        "    # Entity memory for tracking key information about entites\n",
        "    entity_memory=EntityMemory(\n",
        "        storage=RAGStorage(\n",
        "            embedder_config=google_embedder,\n",
        "            type=\"short_term\",\n",
        "            path=\"./my_crew2/entity1/\"\n",
        "        )\n",
        "    ),\n",
        "\n",
        "    verbose=True,\n",
        "        )\n"
      ],
      "metadata": {
        "colab": {
          "base_uri": "https://localhost:8080/"
        },
        "id": "-xAs1GgQtyI2",
        "outputId": "f2522a95-888a-4d93-b720-6dba040d47a0"
      },
      "execution_count": 8,
      "outputs": [
        {
          "output_type": "stream",
          "name": "stderr",
          "text": [
            "WARNING:opentelemetry.trace:Overriding of current TracerProvider is not allowed\n"
          ]
        }
      ]
    },
    {
      "cell_type": "markdown",
      "source": [
        "# Integrating Mem0 for Enhanced User Memory"
      ],
      "metadata": {
        "id": "ti201n6z0c1-"
      }
    },
    {
      "cell_type": "code",
      "source": [
        "import os\n",
        "from crewai import Crew, Process\n",
        "from mem0 import MemoryClient\n",
        "\n",
        "# Set environment variables for Mem0\n",
        "os.environ[\"MEM0_API_KEY\"] = userdata.get('MEM0_API_KEY')\n",
        "\n",
        "# Step 1: Record preferences based on past conversation or user input\n",
        "client = MemoryClient()\n",
        "\n",
        "messages = [\n",
        "    {\"role\": \"user\", \"content\": \"Hi there! I'm planning a vacation and could use some advice.\"},\n",
        "    {\"role\": \"assistant\", \"content\": \"Hello! I'd be happy to help with your vacation planning. What kind of destination do you prefer?\"},\n",
        "    {\"role\": \"user\", \"content\": \"I am more of a beach person than a mountain person.\"},\n",
        "    {\"role\": \"assistant\", \"content\": \"That's interesting. Do you like hotels or Airbnb?\"},\n",
        "    {\"role\": \"user\", \"content\": \"I like Airbnb more.\"},\n",
        "]\n",
        "client.add(messages, user_id=\"john\")\n",
        "\n",
        "# Step 2: Create a Crew with User Memory\n",
        "\n",
        "# Create an agent with the knowledge store\n",
        "agent = Agent(\n",
        "    role=\"About User\",\n",
        "    goal=\"You know everything about the user.\",\n",
        "    backstory=\"\"\"You are a master at understanding people and their preferences.\"\"\",\n",
        "    verbose=True,\n",
        "    allow_delegation=False,\n",
        "    llm=llm1,\n",
        ")\n",
        "\n",
        "task = Task(description=\"Answer the following questions about the user: {question}\",\n",
        "            expected_output=\"An answer to the question.\",\n",
        "            agent=agent)\n",
        "\n",
        "\n",
        "crew = Crew(\n",
        "    agents=[agent],\n",
        "    tasks=[task],\n",
        "    process = Process.sequential,\n",
        "    memory=True,\n",
        "    verbose=True,\n",
        "    memory_config={\n",
        "        \"provider\": \"mem0\",\n",
        "        \"config\": {\"user_id\":\"john\"}\n",
        "    }\n",
        ")\n",
        "\n",
        "crew.kickoff(inputs={\"question\": \"What is your favorite vacation destination?\"})\n"
      ],
      "metadata": {
        "colab": {
          "base_uri": "https://localhost:8080/"
        },
        "id": "hw1WLDKMz8Ge",
        "outputId": "ac4660cd-986b-43f1-afad-34eb44d8fe25"
      },
      "execution_count": 10,
      "outputs": [
        {
          "output_type": "stream",
          "name": "stderr",
          "text": [
            "/usr/local/lib/python3.11/dist-packages/mem0/client/main.py:32: DeprecationWarning: Using default output format 'v1.0' is deprecated and will be removed in version 0.1.70. Please use output_format='v1.1' for enhanced memory details. Check out the docs for more information: https://docs.mem0.ai/platform/quickstart#4-1-create-memories\n",
            "  return func(*args, **kwargs)\n",
            "WARNING:opentelemetry.trace:Overriding of current TracerProvider is not allowed\n"
          ]
        },
        {
          "output_type": "stream",
          "name": "stdout",
          "text": [
            "\u001b[1m\u001b[95m# Agent:\u001b[00m \u001b[1m\u001b[92mAbout User\u001b[00m\n",
            "\u001b[95m## Task:\u001b[00m \u001b[92mAnswer the following questions about the user: What is your favorite vacation destination?\u001b[00m\n",
            "\n",
            "\n",
            "\u001b[1m\u001b[95m# Agent:\u001b[00m \u001b[1m\u001b[92mAbout User\u001b[00m\n",
            "\u001b[95m## Final Answer:\u001b[00m \u001b[92m\n",
            "I do not have personal preferences. However, based on your preferences, a beach house rental on a tropical island might be your favorite vacation destination.\u001b[00m\n",
            "\n",
            "\n"
          ]
        },
        {
          "output_type": "stream",
          "name": "stderr",
          "text": [
            "/usr/local/lib/python3.11/dist-packages/mem0/client/main.py:32: DeprecationWarning: Using default output format 'v1.0' is deprecated and will be removed in version 0.1.70. Please use output_format='v1.1' for enhanced memory details. Check out the docs for more information: https://docs.mem0.ai/platform/quickstart#4-1-create-memories\n",
            "  return func(*args, **kwargs)\n",
            "/usr/local/lib/python3.11/dist-packages/mem0/client/main.py:32: DeprecationWarning: Using default output format 'v1.0' is deprecated and will be removed in version 0.1.70. Please use output_format='v1.1' for enhanced memory details. Check out the docs for more information: https://docs.mem0.ai/platform/quickstart#4-1-create-memories\n",
            "  return func(*args, **kwargs)\n"
          ]
        },
        {
          "output_type": "execute_result",
          "data": {
            "text/plain": [
              "CrewOutput(raw='I do not have personal preferences. However, based on your preferences, a beach house rental on a tropical island might be your favorite vacation destination.', pydantic=None, json_dict=None, tasks_output=[TaskOutput(description='Answer the following questions about the user: What is your favorite vacation destination?', name=None, expected_output='An answer to the question.', summary='Answer the following questions about the user: What is your...', raw='I do not have personal preferences. However, based on your preferences, a beach house rental on a tropical island might be your favorite vacation destination.', pydantic=None, json_dict=None, agent='About User', output_format=<OutputFormat.RAW: 'raw'>)], token_usage=UsageMetrics(total_tokens=293, prompt_tokens=210, cached_prompt_tokens=0, completion_tokens=83, successful_requests=1))"
            ]
          },
          "metadata": {},
          "execution_count": 10
        }
      ]
    },
    {
      "cell_type": "markdown",
      "source": [
        "# Tools"
      ],
      "metadata": {
        "id": "HGIY_4fo4Xey"
      }
    },
    {
      "cell_type": "code",
      "source": [
        "!pip install -Uq 'crewai[tools]'"
      ],
      "metadata": {
        "id": "7udBgEAw3kw3"
      },
      "execution_count": 10,
      "outputs": []
    },
    {
      "cell_type": "code",
      "source": [
        "os.environ[\"SERPER_API_KEY\"] = userdata.get('SERPER_API_KEY')"
      ],
      "metadata": {
        "id": "OYjLKIOc4m4K"
      },
      "execution_count": 11,
      "outputs": []
    },
    {
      "cell_type": "code",
      "source": [
        "embedder = {\n",
        "    \"provider\":\"google\",\n",
        "    \"config\": {\n",
        "        \"model\": \"modesls/text-embedding-004\",\n",
        "        \"api_key\": userdata.get('GEMINI_API_KEY')\n",
        "    }\n",
        "\n",
        "}"
      ],
      "metadata": {
        "id": "mkdmBauf5vPf"
      },
      "execution_count": 12,
      "outputs": []
    },
    {
      "cell_type": "code",
      "source": [
        "# from langchain_google_genai import ChatGoogleGenerativeAI\n",
        "\n",
        "llm1 = LLM(model=\"gemini/gemini-2.0-flash\")"
      ],
      "metadata": {
        "id": "tAGjONrX6EcD"
      },
      "execution_count": 13,
      "outputs": []
    },
    {
      "cell_type": "code",
      "source": [
        "from re import search\n",
        "import os\n",
        "from crewai import Agent, Task, Crew\n",
        "# Importing crewAI tools\n",
        "from crewai_tools import (\n",
        "    DirectoryReadTool,\n",
        "    FileReadTool,\n",
        "    SerperDevTool,\n",
        "    WebsiteSearchTool\n",
        ")\n",
        "\n",
        "# Set up API keys\n",
        "os.environ[\"SERPER_API_KEY\"] = userdata.get('SERPER_API_KEY')\n",
        "\n",
        "\n",
        "# Instantiate tools\n",
        "docs_tool = DirectoryReadTool(directory='./blog-posts')\n",
        "file_tool = FileReadTool()\n",
        "search_tool = SerperDevTool()\n",
        "# Create agents\n",
        "researcher = Agent(\n",
        "    role='Market Research Analyst',\n",
        "    goal='Provide up-to-date market analysis of the AI industry',\n",
        "    backstory='An expert analyst  with a keen eye for market trends.',\n",
        "    tools=[search_tool],\n",
        "    llm=llm1,\n",
        "    verbose=True\n",
        ")\n",
        "\n",
        "\n",
        "writer = Agent(\n",
        "    role='Content Writer',\n",
        "    goal='Craft engaging blog posts about the AI industry',\n",
        "    backstory='A skilled writer with a passion for technology.',\n",
        "    tools=[docs_tool,file_tool],\n",
        "    verbose=True,\n",
        "    llm=llm1\n",
        ")\n",
        "\n",
        "\n",
        "# Define tasks\n",
        "research = Task(\n",
        "    description='Research the lastest trends in the AI industry and provide a summary?',\n",
        "    expected_output=\"A summary of the top 3 trending developments in the AI Industry with  a unique perspective on their significance.\",\n",
        "    agent=researcher\n",
        "\n",
        ")\n",
        "\n",
        "write = Task(\n",
        "    description='Write an engaging blog post about the AI industry, based on the research analyst’s summary. Draw inspiration from the latest blog posts in the directory.',\n",
        "    expected_output='A 4-paragraph blog post formatted in markdown with engaging, informative, and accessible content, avoiding complex jargon.',\n",
        "    agent=writer,\n",
        "    output_file='blog-posts/new_post.md'   # The final blog post will be saved here\n",
        ")\n",
        "\n",
        "# Assemble a crew with planning enabled\n",
        "crew = Crew(\n",
        "    agents=[researcher, writer],\n",
        "    tasks = [research, write],\n",
        "    verbose=True,\n",
        "    planning=True, # Enable planning feature\n",
        "    planning_llm=llm1\n",
        ")\n",
        "\n",
        "# Execute tasks\n",
        "crew.kickoff()"
      ],
      "metadata": {
        "colab": {
          "base_uri": "https://localhost:8080/"
        },
        "id": "j41d3M2O6eCL",
        "outputId": "1fb15f25-3935-4189-a780-f021e2430d67"
      },
      "execution_count": null,
      "outputs": [
        {
          "output_type": "stream",
          "name": "stderr",
          "text": [
            "WARNING:opentelemetry.trace:Overriding of current TracerProvider is not allowed\n"
          ]
        },
        {
          "output_type": "stream",
          "name": "stdout",
          "text": [
            "\u001b[1m\u001b[93m \n",
            "[2025-03-05 06:47:06][INFO]: Planning the crew execution\u001b[00m\n",
            "\u001b[91m Error parsing LLM output, agent will retry: I did it wrong. Invalid Format: I missed the 'Action:' after 'Thought:'. I will do right next, and don't use a tool I have already used.\n",
            "\n",
            "If you don't need to use any more tools, you must give your best complete final answer, make sure it satisfies the expected criteria, use the EXACT format below:\n",
            "\n",
            "```\n",
            "Thought: I now can give a great answer\n",
            "Final Answer: my best complete final answer to the task.\n",
            "\n",
            "```\u001b[00m\n",
            "\u001b[91m Error parsing LLM output, agent will retry: I did it wrong. Invalid Format: I missed the 'Action:' after 'Thought:'. I will do right next, and don't use a tool I have already used.\n",
            "\n",
            "If you don't need to use any more tools, you must give your best complete final answer, make sure it satisfies the expected criteria, use the EXACT format below:\n",
            "\n",
            "```\n",
            "Thought: I now can give a great answer\n",
            "Final Answer: my best complete final answer to the task.\n",
            "\n",
            "```\u001b[00m\n",
            "\u001b[1m\u001b[95m# Agent:\u001b[00m \u001b[1m\u001b[92mMarket Research Analyst\u001b[00m\n",
            "\u001b[95m## Task:\u001b[00m \u001b[92mResearch the lastest trends in the AI industry and provide a summary?1. The Market Research Analyst will use the 'Search the internet with Serper' tool to research the latest trends in the AI industry. The search query will be: 'latest AI industry trends'.\n",
            "2. The Market Research Analyst will analyze the search results to identify the top 3 trending developments in the AI industry.\n",
            "3. For each of the top 3 trends, the Market Research Analyst will develop a unique perspective on their significance, considering potential impacts and future implications.\n",
            "4. The Market Research Analyst will compile a summary document outlining the top 3 trends and their unique perspectives.\u001b[00m\n",
            "\n",
            "\n",
            "\u001b[1m\u001b[95m# Agent:\u001b[00m \u001b[1m\u001b[92mMarket Research Analyst\u001b[00m\n",
            "\u001b[95m## Thought:\u001b[00m \u001b[92mI need to identify the latest trends in the AI industry and provide a summary with my unique perspective on their significance.\u001b[00m\n",
            "\u001b[95m## Using tool:\u001b[00m \u001b[92mSearch the internet with Serper\u001b[00m\n",
            "\u001b[95m## Tool Input:\u001b[00m \u001b[92m\n",
            "\"{\\\"search_query\\\": \\\"latest AI industry trends\\\"}\"\u001b[00m\n",
            "\u001b[95m## Tool Output:\u001b[00m \u001b[92m\n",
            "{'searchParameters': {'q': 'latest AI industry trends', 'type': 'search', 'num': 10, 'engine': 'google'}, 'organic': [{'title': 'Five Trends in AI and Data Science for 2025', 'link': 'https://sloanreview.mit.edu/article/five-trends-in-ai-and-data-science-for-2025/', 'snippet': 'From agentic AI to unstructured data, these 2025 AI trends deserve close attention from leaders. Get fresh data and advice from two experts.', 'position': 1}, {'title': \"6 AI trends you'll see more of in 2025 - Microsoft News\", 'link': 'https://news.microsoft.com/source/features/ai/6-ai-trends-youll-see-more-of-in-2025/', 'snippet': 'In 2025, AI will evolve from a tool for work and home to an integral part of both. AI-powered agents will do more with greater autonomy and ...', 'position': 2}, {'title': '8 AI and machine learning trends to watch in 2025 | TechTarget', 'link': 'https://www.techtarget.com/searchenterpriseai/tip/9-top-AI-and-machine-learning-trends', 'snippet': 'Explore the key trends shaping AI in 2025, from multimodal models and AI agents to security challenges and evolving regulatory landscapes.', 'position': 3}, {'title': '14 AI Trends Transforming Tech in 2025 and Beyond | DigitalOcean', 'link': 'https://www.digitalocean.com/resources/articles/ai-trends', 'snippet': 'From AI-powered search engines enabling interactive knowledge synthesis to generative systems transforming creative work to intelligent automation reshaping ...', 'position': 4}, {'title': 'AI News | Latest AI News, Analysis & Events', 'link': 'https://www.artificialintelligence-news.com/', 'snippet': 'AI News reports on the latest artificial intelligence news and insights. Explore industry trends from the frontline of AI.', 'position': 5}, {'title': \"The state of AI in 2023: Generative AI's breakout year | McKinsey\", 'link': 'https://www.mckinsey.com/capabilities/quantumblack/our-insights/the-state-of-ai-in-2023-generative-ais-breakout-year', 'snippet': 'The latest annual McKinsey Global Survey on the current state of AI confirms the explosive growth of generative AI (gen AI) tools.', 'position': 6}, {'title': 'AI Index Report 2024 – Artificial Intelligence Index - Stanford University', 'link': 'https://aiindex.stanford.edu/report/', 'snippet': '1. Industry continues to dominate frontier AI research. 2. More foundation models and more open foundation models. 3. Frontier models get way more expensive. 4.', 'position': 7, 'sitelinks': [{'title': 'AI', 'link': 'https://hai.stanford.edu/research/ai-index-report'}, {'title': 'Research', 'link': 'https://aiindex.stanford.edu/research/'}, {'title': '2023', 'link': 'https://aiindex.stanford.edu/ai-index-report-2023/'}, {'title': 'About', 'link': 'https://aiindex.stanford.edu/about/'}]}, {'title': 'Latest Trends in Artificial Intelligence - Newark Electronics', 'link': 'https://www.newark.com/latest-trends-in-artificial-intelligence', 'snippet': 'Latest Trends in Artificial Intelligence · 1. Intelligent Process Automation · 2. A Shift Toward Cybersecurity · 3. AI for Personalized Services · 4. Automated AI ...', 'position': 8, 'sitelinks': [{'title': '3. Ai For Personalized...', 'link': 'https://www.newark.com/latest-trends-in-artificial-intelligence#:~:text=3.%20AI%20for%20Personalized%20Services'}, {'title': '4. Automated Ai Development', 'link': 'https://www.newark.com/latest-trends-in-artificial-intelligence#:~:text=4.%20Automated%20AI%20Development'}, {'title': '8. Ai In Healthcare', 'link': 'https://www.newark.com/latest-trends-in-artificial-intelligence#:~:text=8.%20AI%20in%20Healthcare'}]}, {'title': 'AI Trends Outlook | Deloitte', 'link': 'https://www2.deloitte.com/us/en/pages/consulting/articles/ai-trends.html', 'snippet': 'Explore multiyear AI trends and the balance between innovation and risk featured in previous Deloitte State of AI in the Enterprise survey reports.', 'position': 9}], 'peopleAlsoAsk': [{'question': 'What is the latest AI trend?', 'snippet': \"Let's get agentic AI — the kind of AI that does tasks independently — out of the way first: It's a sure bet for 2025's “most trending AI trend.” Agentic AI seems to be on an inevitable rise: Everybody in the tech vendor and analyst worlds is excited about the prospect of having AI programs collaborate to do real work ...\\nJan 8, 2025\", 'title': 'Five Trends in AI and Data Science for 2025', 'link': 'https://sloanreview.mit.edu/article/five-trends-in-ai-and-data-science-for-2025/'}, {'question': 'What is the market trend for AI?', 'snippet': 'The market size in the Artificial Intelligence market is projected to reach US$243.72bn in 2025. The market size is expected to show an annual growth rate (CAGR 2025-2030) of 27.67%, resulting in a market volume of US$826.73bn by 2030.', 'title': 'Artificial Intelligence - Worldwide | Market Forecast - Statista', 'link': 'https://www.statista.com/outlook/tmo/artificial-intelligence/worldwide'}, {'question': \"What's new for AI in 2025?\", 'snippet': 'AI becomes multimodal and agentic, optimizing experiences and driving breakthroughs across industries. Expect wider access, silo-busting, and solutions to global challenges as AI evolves.', 'title': '2025 and the Next Chapter(s) of AI | Google Cloud Blog', 'link': 'https://cloud.google.com/transform/2025-and-the-next-chapters-of-ai'}], 'relatedSearches': [{'query': 'Latest ai industry trends pdf'}, {'query': 'Top 10 AI trends'}, {'query': 'Latest AI technology news'}, {'query': 'Emerging trends in Artificial Intelligence'}, {'query': 'Artificial intelligence trends in business'}, {'query': 'AI trends 2025'}, {'query': 'Current trends in Artificial intelligence PDF'}, {'query': 'Latest AI technology 2025'}], 'credits': 1}\u001b[00m\n",
            "\n",
            "\n",
            "\u001b[1m\u001b[95m# Agent:\u001b[00m \u001b[1m\u001b[92mMarket Research Analyst\u001b[00m\n",
            "\u001b[95m## Thought:\u001b[00m \u001b[92mThought: The search results point to several key trends in the AI industry. Based on the search results, I can summarize the top three trends as: 1. Agentic AI, 2. Multimodal AI, and 3. Generative AI. Now I need to add my perspective on the significance of these trends.\u001b[00m\n",
            "\u001b[95m## Using tool:\u001b[00m \u001b[92mSearch the internet with Serper\u001b[00m\n",
            "\u001b[95m## Tool Input:\u001b[00m \u001b[92m\n",
            "\"{\\\"search_query\\\": \\\"Agentic AI significance\\\"}\"\u001b[00m\n",
            "\u001b[95m## Tool Output:\u001b[00m \u001b[92m\n",
            "{'searchParameters': {'q': 'Agentic AI significance', 'type': 'search', 'num': 10, 'engine': 'google'}, 'organic': [{'title': 'What Is Agentic AI, and How Will It Change Work?', 'link': 'https://hbr.org/2024/12/what-is-agentic-ai-and-how-will-it-change-work', 'snippet': 'Agentic AI systems also have significantly greater ability to sift and differentiate information sources for quality and reliability, ...', 'position': 1}, {'title': 'What is Agentic AI? | UiPath', 'link': 'https://www.uipath.com/ai/agentic-ai', 'snippet': 'Agentic AI revolutionizes customer interactions by providing personalized and responsive experiences at scale and speed. Leveraging sophisticated models, AI ...', 'position': 2, 'sitelinks': [{'title': 'Agentic AI Summit', 'link': 'https://www.uipath.com/events/agentic-ai-summit'}, {'title': 'What is Agentic Automation?', 'link': 'https://www.uipath.com/automation/agentic-automation'}, {'title': 'What are AI Agents?', 'link': 'https://www.uipath.com/ai/ai-agents'}]}, {'title': 'The Age of Agentic AI - Booz Allen', 'link': 'https://www.boozallen.com/insights/velocity/the-age-of-agentic-ai.html', 'snippet': 'The leap to agentic AI promises to fundamentally redefine how computing systems are built and how software functions in the real world.', 'position': 3, 'sitelinks': [{'title': 'The Age Of Agentic Ai', 'link': 'https://www.boozallen.com/insights/velocity/the-age-of-agentic-ai.html#:~:text=The%20Age%20of%20Agentic%20AI,-VELOCITY%20V3.%202025%20%7C'}, {'title': 'Distributed Intelligence...', 'link': 'https://www.boozallen.com/insights/velocity/the-age-of-agentic-ai.html#:~:text=Distributed%20intelligence%20reimagined'}, {'title': 'What Agentic Ai Could Look...', 'link': 'https://www.boozallen.com/insights/velocity/the-age-of-agentic-ai.html#:~:text=What%20Agentic%20AI%20Could%20Look%20Like'}]}, {'title': \"AI Agents vs Agentic AI: What's the Difference and Why Does It Matter?\", 'link': 'https://medium.com/@elisowski/ai-agents-vs-agentic-ai-whats-the-difference-and-why-does-it-matter-03159ee8c2b4', 'snippet': \"AI Agents are great at automating simple, repetitive tasks but don't have the autonomy or decision-making abilities that Agentic AI does.\", 'position': 4, 'sitelinks': [{'title': 'What Is Agentic Ai?', 'link': 'https://medium.com/@elisowski/ai-agents-vs-agentic-ai-whats-the-difference-and-why-does-it-matter-03159ee8c2b4#:~:text=What%20is%20Agentic%20AI%3F'}, {'title': 'Agentic Ai In Action', 'link': 'https://medium.com/@elisowski/ai-agents-vs-agentic-ai-whats-the-difference-and-why-does-it-matter-03159ee8c2b4#:~:text=Agentic%20AI%20in%20Action'}, {'title': 'Ai Agents In Action', 'link': 'https://medium.com/@elisowski/ai-agents-vs-agentic-ai-whats-the-difference-and-why-does-it-matter-03159ee8c2b4#:~:text=AI%20Agents%20in%20Action'}]}, {'title': 'What is Agentic AI? - Talkdesk', 'link': 'https://www.talkdesk.com/blog/agentic-ai/', 'snippet': \"Agentic AI systems can streamline complex, high-value tasks that require coordination across multiple tools and data sources. Let's go through ...\", 'position': 5, 'sitelinks': [{'title': 'Agentic Ai Vs Traditional Ai...', 'link': 'https://www.talkdesk.com/blog/agentic-ai/#:~:text=Agentic%20AI%20vs%20traditional%20AI%3A%20What%27s%20the%20difference%3F'}, {'title': 'Agentic Ai Displays...', 'link': 'https://www.talkdesk.com/blog/agentic-ai/#:~:text=Agentic%20AI%20displays%20autonomous%2C%20goal%2Doriented%20behavior.'}, {'title': 'Agentic Ai Is Scalable For...', 'link': 'https://www.talkdesk.com/blog/agentic-ai/#:~:text=Agentic%20AI%20is%20scalable%20for%20diverse%20business%20needs.'}]}, {'title': 'Agentic AI vs. Generative AI - IBM', 'link': 'https://www.ibm.com/think/topics/agentic-ai-vs-generative-ai', 'snippet': \"Agentic AI is focused on decisions as opposed to creating the actual new content, and doesn't solely rely on human prompts nor require human oversight.\", 'position': 6, 'sitelinks': [{'title': 'Features Of Agentic Ai And...', 'link': 'https://www.ibm.com/think/topics/agentic-ai-vs-generative-ai#:~:text=Features%20of%20agentic%20AI%20and%20generative%20AI,-Agentic%20AI%20and%20generative%20AI'}, {'title': 'Use Cases For Agentic Ai And...', 'link': 'https://www.ibm.com/think/topics/agentic-ai-vs-generative-ai#:~:text=Use%20cases%20for%20agentic%20AI%20and%20generative%20AI,-There%20are%20many%20use%20cases'}, {'title': 'Agentic Ai And Generative Ai...', 'link': 'https://www.ibm.com/think/topics/agentic-ai-vs-generative-ai#:~:text=Agentic%20AI%20and%20generative%20AI%20trends,-Generative%20AI%20trends'}]}, {'title': \"The Next “Next Big Thing”: Agentic AI's Opportunities and Risks\", 'link': 'https://scet.berkeley.edu/the-next-next-big-thing-agentic-ais-opportunities-and-risks/', 'snippet': 'Agentic AI is poised to revolutionize industries, handling complex tasks with human-like decision-making—but with great power comes great risk.', 'position': 7, 'sitelinks': [{'title': 'Central, Intelligent Agents', 'link': 'https://scet.berkeley.edu/the-next-next-big-thing-agentic-ais-opportunities-and-risks/#:~:text=Central%2C%20Intelligent%20Agents'}, {'title': 'How Do Agents Work?', 'link': 'https://scet.berkeley.edu/the-next-next-big-thing-agentic-ais-opportunities-and-risks/#:~:text=How%20Do%20Agents%20Work%3F'}, {'title': 'Deepfaking Human Behavior...', 'link': 'https://scet.berkeley.edu/the-next-next-big-thing-agentic-ais-opportunities-and-risks/#:~:text=Deepfaking%20Human%20Behavior%20and%20Other%20Risks'}]}, {'title': 'What is Agentic AI? | Salesforce US', 'link': 'https://www.salesforce.com/agentforce/what-is-agentic-ai/', 'snippet': 'Agentic AI can significantly speed up development processes by automating tasks and making decisions independently. This autonomy saves time and reduces ...', 'position': 8, 'sitelinks': [{'title': 'Agentic Ai, Defined', 'link': 'https://www.salesforce.com/agentforce/what-is-agentic-ai/#:~:text=Agentic%20AI%2C%20defined,-Agentic%20AI%20is%20the%20technology'}, {'title': 'How Does Agentic Ai Work?', 'link': 'https://www.salesforce.com/agentforce/what-is-agentic-ai/#:~:text=How%20does%20agentic%20AI%20work%3F,-Agentic%20AI%20operates%20through%20a'}, {'title': 'Benefits Of Agentic Ai', 'link': 'https://www.salesforce.com/agentforce/what-is-agentic-ai/#:~:text=Benefits%20of%20Agentic%20AI,-Agentic%20AI%20represents%20a%20leap'}]}, {'title': 'What Is Agentic AI? - NVIDIA Blog', 'link': 'https://blogs.nvidia.com/blog/what-is-agentic-ai/', 'snippet': 'Agentic AI uses sophisticated reasoning and iterative planning to autonomously solve complex, multi-step problems.', 'position': 9}], 'peopleAlsoAsk': [{'question': 'Why is agentic AI important?', 'snippet': 'Agentic AI revolutionizes customer interactions by providing personalized and responsive experiences at scale and speed. Leveraging sophisticated models, AI agents can infer customer intent, predict needs, and offer tailored solutions, all while operating 24/7 to ensure consistent and efficient support.', 'title': 'What is Agentic AI? | UiPath', 'link': 'https://www.uipath.com/ai/agentic-ai'}, {'question': 'What is the application of agentic AI?', 'snippet': 'Agentic AI systems search through databases and other real-time information sources to analyze large amounts of data in a fraction of the time it takes human analysts. This means your enterprise can get instant access to the most up-to-date information and generate audit-ready reports for data-informed decision-making.', 'title': \"Here's 6 Agentic AI Examples and Use Cases Transforming Businesses\", 'link': 'https://www.moveworks.com/us/en/resources/blog/agentic-ai-examples-use-cases'}, {'question': 'What is the significance of using AI?', 'snippet': 'AI significantly boosts efficiency and productivity by optimizing processes and reducing the time and resources required to complete tasks. AI systems can analyze data, predict outcomes, and suggest improvements, allowing businesses to streamline operations and eliminate bottlenecks.', 'title': '20+ Advantages and Disadvantages of AI | Pros of Artificial Intelligence', 'link': 'https://www.simplilearn.com/advantages-and-disadvantages-of-artificial-intelligence-article'}, {'question': 'What is the difference between traditional AI and agentic AI?', 'snippet': 'While traditional AI models can be powerful within their narrow domains like data analysis and generating content, agentic AI goes beyond by providing a higher level of flexibility, actionability, and scalability in diverse applications.', 'title': 'Agentic AI Vs AI Agents: 5 Differences and Why They Matter | Moveworks', 'link': 'https://www.moveworks.com/us/en/resources/blog/agentic-ai-vs-ai-agents-definitions-and-differences'}], 'relatedSearches': [{'query': 'Agentic ai significance example'}, {'query': 'Agentic ai significance ppt'}], 'credits': 1}\u001b[00m\n",
            "\n",
            "\n",
            "\u001b[1m\u001b[95m# Agent:\u001b[00m \u001b[1m\u001b[92mMarket Research Analyst\u001b[00m\n",
            "\u001b[95m## Thought:\u001b[00m \u001b[92mThought: I have now identified three major trends in AI, and have researched the first, agentic AI. Now I need to research the second, multimodal AI.\u001b[00m\n",
            "\u001b[95m## Using tool:\u001b[00m \u001b[92mSearch the internet with Serper\u001b[00m\n",
            "\u001b[95m## Tool Input:\u001b[00m \u001b[92m\n",
            "\"{\\\"search_query\\\": \\\"Multimodal AI significance\\\"}\"\u001b[00m\n",
            "\u001b[95m## Tool Output:\u001b[00m \u001b[92m\n",
            "{'searchParameters': {'q': 'Multimodal AI significance', 'type': 'search', 'num': 10, 'engine': 'google'}, 'organic': [{'title': 'What Is Multimodal AI? A Complete Introduction - Splunk', 'link': 'https://www.splunk.com/en_us/blog/learn/multimodal-ai.html', 'snippet': 'Multimodal AI is an AI system that can integrate and process multiple different types of data inputs.', 'position': 1}, {'title': 'Multimodal AI | Google Cloud', 'link': 'https://cloud.google.com/use-cases/multimodal-ai', 'snippet': 'The benefits of multimodal AI is that it offers developers and users an AI with more advanced reasoning, problem-solving, and generation capabilities. These ...', 'position': 2}, {'title': 'Why is multimodal AI such a big deal? - Interface Magazine', 'link': 'https://interface.media/blog/2024/03/06/why-is-multimodal-ai-such-a-big-deal/', 'snippet': 'Able to understand multiple types of input, multi-modal models represent the next big step in generative AI refinement.', 'position': 3}, {'title': 'What is multimodal AI: Complete overview | SuperAnnotate', 'link': 'https://www.superannotate.com/blog/multimodal-ai', 'snippet': 'In essence, a multimodal AI system uses multiple single-mode networks to handle diverse inputs, integrates these inputs, and produces outcomes ...', 'position': 4}, {'title': 'Multimodal AI: The Next Frontier in Artificial Intelligence - Shakudo', 'link': 'https://www.shakudo.io/blog/multimodal-the-next-frontier-in-ai', 'snippet': 'Multimodal AI systems enhance human-computer interactions by better understanding nuances in real-world situations, enabling more natural and ...', 'position': 5}, {'title': 'What is Multimodal AI? Combining Data for Impact - Pecan AI', 'link': 'https://www.pecan.ai/blog/what-is-multimodal-ai-business/', 'snippet': \"Think of multimodal AI as a multilingual translator. It's an AI system that can comprehend and communicate in multiple 'languages'—in this case, ...\", 'position': 6, 'sitelinks': [{'title': 'Advantages of Using...', 'link': 'https://www.pecan.ai/blog/what-is-multimodal-ai-business/#advantages-of-using-multimodal-ai'}, {'title': 'How to Implement Multimodal...', 'link': 'https://www.pecan.ai/blog/what-is-multimodal-ai-business/#how-to-implement-multimodal-ai-in-your-business'}, {'title': 'Specific Use Cases for...', 'link': 'https://www.pecan.ai/blog/what-is-multimodal-ai-business/#specific-use-cases-for-multimodal-ai'}]}, {'title': 'Multimodal AI Models: Understanding Their Complexity - Addepto', 'link': 'https://addepto.com/blog/multimodal-ai-models-understanding-their-complexity/', 'snippet': 'Multimodal AI is a subset of artificial intelligence that integrates information from various modalities, such as text, images, audio, and video ...', 'position': 7}, {'title': 'How Multimodal AI is Redefining Interaction - CDInsights', 'link': 'https://www.clouddatainsights.com/how-multimodal-ai-is-redefining-interaction/', 'snippet': 'Multimodal AI integrates multiple forms of data, such as text, images, audio, and video, and is paving the way for more sophisticated and ...', 'position': 8, 'sitelinks': [{'title': 'Multimodal Ai Expands What...', 'link': 'https://www.clouddatainsights.com/how-multimodal-ai-is-redefining-interaction/#:~:text=Multimodal%20AI%20expands%20what%20machines%20can%20do'}, {'title': \"What's Happening In...\", 'link': 'https://www.clouddatainsights.com/how-multimodal-ai-is-redefining-interaction/#:~:text=What%27s%20happening%20in%20multimodal%20AI%3F'}, {'title': \"Google Cloud's 2025 Trends...\", 'link': 'https://www.clouddatainsights.com/how-multimodal-ai-is-redefining-interaction/#:~:text=Google%20Cloud%27s%202025%20Trends%20Report%20on%20Multimodal%20AI'}]}, {'title': 'What Is Multimodal AI? | Built In', 'link': 'https://builtin.com/articles/multimodal-ai', 'snippet': 'Multimodal AI refers to artificial intelligence models that can process and understand information from multiple modalities, like data, text, images, ...', 'position': 9, 'sitelinks': [{'title': 'Multimodal Ai Definition', 'link': 'https://builtin.com/articles/multimodal-ai#:~:text=Multimodal%20AI%20Definition'}, {'title': 'Multimodal Ai And Generative...', 'link': 'https://builtin.com/articles/multimodal-ai#:~:text=Multimodal%20AI%20and%20Generative%20AI'}, {'title': 'Multimodal Ai And Unified...', 'link': 'https://builtin.com/articles/multimodal-ai#:~:text=Multimodal%20AI%20and%20Unified%20Models'}]}], 'peopleAlsoAsk': [{'question': 'Why is multimodal AI important?', 'snippet': 'Some notable benefits include: Better context: Multimodal AI analyzes different inputs and recognizes patterns. Thereby, leading to natural and human-like accurate outputs. Accuracy: Since multimodal AI combines different data streams, it can result in more reliable and precise outcomes.\\nOct 15, 2024', 'title': 'What Is Multimodal AI? A Complete Introduction - Splunk', 'link': 'https://www.splunk.com/en_us/blog/learn/multimodal-ai.html'}, {'question': 'What is the significance of multimodal?', 'snippet': 'Multimodality recognises that meaning-making is not limited to only linguistic modes of communication and learning. Meaning is made in increasingly multimodal, digital and social ways. It is important to recognise the social and cultural uses in multimodality to understand and communicate meaning.', 'title': 'Multimodality in the Early Years - Child Australia', 'link': 'https://childaustralia.org.au/multimodality-in-the-early-years/'}, {'question': 'Why is the multimodal approach important?', 'snippet': 'Multimodal learning suggests that when a number of our senses – visual, auditory, kinaesthetic – are being engaged during learning, we understand and remember more. By combining these modes, learners experience learning in a variety of ways to create a diverse learning style.', 'title': \"Multimodal Learning: Engaging Your Learner's Senses\", 'link': 'https://www.learnupon.com/blog/multimodal-learning/'}, {'question': 'What is the significance of multimodal communication?', 'snippet': 'Multi modal communication is a holistic way of looking at communication. Rather than just focusing on one area, we consider all forms of communication, for example, body posture, facial expression, gesture, writing, speaking or using a communication device.', 'title': 'Multi Modal Communication | The Communication Clinic | Maitland', 'link': 'https://www.thecommclinic.com.au/services/aac-multimodal-communication/'}], 'relatedSearches': [{'query': 'Multimodal AI examples'}, {'query': 'Multimodal AI vs generative AI'}, {'query': 'Multimodal ai significance examples'}, {'query': 'Multimodal ai significance pdf'}, {'query': 'Multimodal AI architecture'}, {'query': 'Multimodal AI models'}, {'query': 'Multimodal AI applications'}, {'query': 'Multimodal AI free'}], 'credits': 1}\n",
            "\n",
            "\n",
            "You ONLY have access to the following tools, and should NEVER make up tools that are not listed here:\n",
            "\n",
            "Tool Name: Search the internet with Serper\n",
            "Tool Arguments: {'search_query': {'description': 'Mandatory search query you want to use to search the internet', 'type': 'str'}}\n",
            "Tool Description: A tool that can be used to search the internet with a search_query. Supports different search types: 'search' (default), 'news'\n",
            "\n",
            "IMPORTANT: Use the following format in your response:\n",
            "\n",
            "```\n",
            "Thought: you should always think about what to do\n",
            "Action: the action to take, only one name of [Search the internet with Serper], just the name, exactly as it's written.\n",
            "Action Input: the input to the action, just a simple JSON object, enclosed in curly braces, using \" to wrap keys and values.\n",
            "Observation: the result of the action\n",
            "```\n",
            "\n",
            "Once all necessary information is gathered, return the following format:\n",
            "\n",
            "```\n",
            "Thought: I now know the final answer\n",
            "Final Answer: the final answer to the original input question\n",
            "```\u001b[00m\n",
            "\n",
            "\n",
            "\u001b[1m\u001b[95m# Agent:\u001b[00m \u001b[1m\u001b[92mMarket Research Analyst\u001b[00m\n",
            "\u001b[95m## Thought:\u001b[00m \u001b[92mThought: I have identified the first two trends and researched them. Now I need to research generative AI.\u001b[00m\n",
            "\u001b[95m## Using tool:\u001b[00m \u001b[92mSearch the internet with Serper\u001b[00m\n",
            "\u001b[95m## Tool Input:\u001b[00m \u001b[92m\n",
            "\"{\\\"search_query\\\": \\\"Generative AI significance\\\"}\"\u001b[00m\n",
            "\u001b[95m## Tool Output:\u001b[00m \u001b[92m\n",
            "{'searchParameters': {'q': 'Generative AI significance', 'type': 'search', 'num': 10, 'engine': 'google'}, 'organic': [{'title': 'What is Generative AI & Why is It Important? - Accenture', 'link': 'https://www.accenture.com/us-en/insights/generative-ai', 'snippet': 'Generative AI is a groundbreaking form of artificial intelligence that swiftly creates content in response to prompts.', 'position': 1}, {'title': 'Economic potential of generative AI | McKinsey', 'link': 'https://www.mckinsey.com/capabilities/mckinsey-digital/our-insights/the-economic-potential-of-generative-ai-the-next-productivity-frontier', 'snippet': \"Generative AI's impact on productivity could add trillions of dollars in value to the global economy—and the era is just beginning.\", 'position': 2}, {'title': '7 Things You Should Know About Generative AI | EDUCAUSE Review', 'link': 'https://er.educause.edu/articles/2023/12/7-things-you-should-know-about-generative-ai', 'snippet': 'Generative AI revolves around neural networks, complex structures inspired by the human brain with interconnected artificial neurons for ...', 'position': 3}, {'title': 'Insights on Generative AI and the Future of Work | NC Commerce', 'link': 'https://www.commerce.nc.gov/news/the-lead-feed/generative-ai-and-future-work', 'snippet': 'Generative AI, and commercial AI products, have seen significant improvements in capability and usability in the past year. But while powerful ...', 'position': 4}, {'title': 'Generative artificial intelligence - Wikipedia', 'link': 'https://en.wikipedia.org/wiki/Generative_artificial_intelligence', 'snippet': 'Generative artificial intelligence is a subset of artificial intelligence that uses generative models to produce text, images, videos, or other forms of ...', 'position': 5}, {'title': 'What is Generative AI? - Gen AI Explained - AWS', 'link': 'https://aws.amazon.com/what-is/generative-ai/', 'snippet': 'Generative AI creates new materials, chips, and part designs to optimize manufacturing processes and reduce costs. Another generative AI use case is ...', 'position': 6}, {'title': 'Generative AI: What Is It, Tools, Models, Applications and Use Cases', 'link': 'https://www.gartner.com/en/topics/generative-ai', 'snippet': 'Generative AI is a type of AI (such as ChatGPT) that can generate new forms of creative content, such as audio, code, images, text, simulations and videos.', 'position': 7}, {'title': \"The state of AI in 2023: Generative AI's breakout year | McKinsey\", 'link': 'https://www.mckinsey.com/capabilities/quantumblack/our-insights/the-state-of-ai-in-2023-generative-ais-breakout-year', 'snippet': 'As organizations rapidly deploy generative AI tools, survey respondents expect significant effects on their industries and workforces.', 'position': 8}, {'title': 'Generative AI and its Impact on Society - Hyperight', 'link': 'https://hyperight.com/generative-ai-and-its-impact-on-society/', 'snippet': 'Generative AI represents a significant technological advancement, driving innovation, operational optimization, and personalized interactions across various ...', 'position': 9, 'sitelinks': [{'title': 'The Impact Of Generative Ai...', 'link': 'https://hyperight.com/generative-ai-and-its-impact-on-society/#:~:text=The%20Impact%20of%20Generative%20AI%20on%20Industries'}, {'title': 'Ethical Considerations And...', 'link': 'https://hyperight.com/generative-ai-and-its-impact-on-society/#:~:text=Ethical%20Considerations%20and%20Challenges'}, {'title': 'Bias And Fairness', 'link': 'https://hyperight.com/generative-ai-and-its-impact-on-society/#:~:text=Bias%20and%20Fairness,-Generative%20AI%20pioneers%20technological%20innovation'}]}], 'peopleAlsoAsk': [{'question': 'Why is generative AI important?', 'snippet': 'In marketing, generative AI can automate the integration and analysis of data from disparate sources, which should dramatically accelerate time to insights and lead directly to better-informed decision-making and faster development of go-to-market strategies.', 'title': 'What Is Generative AI (GenAI)? How Does It Work? - Oracle', 'link': 'https://www.oracle.com/in/artificial-intelligence/generative-ai/what-is-generative-ai/'}, {'question': 'How generative AI can change the world?', 'snippet': 'We estimate that generative AI could add up to $20 trillion to global GDP by 2030 and save 300 billion work hours a year. The possibilities are extraordinary. Fully 96% of the workers we surveyed said they believe generative AI can help them in their jobs.', 'title': 'How Generative AI Is Transforming Business And Society', 'link': 'https://www.oliverwymanforum.com/global-consumer-sentiment/how-will-ai-affect-global-economics.html'}, {'question': 'What is the main goal of generative AI?', 'snippet': 'What Is the Main Goal of Generative AI? The main goal of generative AI is to generate new content, whether it be text, images, videos, or even music, all while optimizing efficiency and fostering creativity.', 'title': 'Main Goal of Generative AI: Benefits, Use Cases, and Limitations', 'link': 'https://www.youngurbanproject.com/main-goal-of-generative-ai/'}, {'question': 'How will generative AI impact our lives?', 'snippet': 'Generative AI represents a significant technological advancement, driving innovation, operational optimization, and personalized interactions across various industries. Its ability to reshape business strategies and enhance customer engagement marks a fundamental shift in the application of AI within industries.', 'title': 'Generative AI and its Impact on Society - Hyperight', 'link': 'https://hyperight.com/generative-ai-and-its-impact-on-society/'}], 'relatedSearches': [{'query': 'What is generative AI'}, {'query': 'Generative ai significance wikipedia'}, {'query': 'Generative ai significance pdf'}, {'query': 'Generative AI examples'}, {'query': 'McKinsey generative AI report PDF'}, {'query': 'BCG generative AI report'}, {'query': 'Generative AI for business course'}, {'query': 'Generative AI market size McKinsey'}], 'credits': 1}\u001b[00m\n",
            "\n",
            "\n",
            "\u001b[1m\u001b[95m# Agent:\u001b[00m \u001b[1m\u001b[92mMarket Research Analyst\u001b[00m\n",
            "\u001b[95m## Final Answer:\u001b[00m \u001b[92m\n",
            "**Top 3 Trending Developments in the AI Industry**\n",
            "\n",
            "Here's a breakdown of the top 3 AI trends with my unique perspective:\n",
            "\n",
            "1.  **Agentic AI:**\n",
            "\n",
            "*   **Definition:** Agentic AI refers to AI systems that can autonomously perform tasks to achieve specific goals without continuous human intervention. They can plan, make decisions, and act independently.\n",
            "*   **Significance:** Agentic AI is a major step toward truly intelligent systems. Instead of just reacting to commands, AI agents can proactively solve problems, manage complex workflows, and adapt to changing circumstances.\n",
            "*   **My Unique Perspective:** While the promise of autonomous AI agents is exciting, the real game-changer will be when these agents can seamlessly collaborate with humans and each other. Imagine a future where AI agents handle routine tasks, freeing up humans to focus on creative and strategic work. However, this requires careful consideration of trust, transparency, and control to avoid unintended consequences. The challenge lies in designing agentic systems that are aligned with human values and goals.\n",
            "\n",
            "2.  **Multimodal AI:**\n",
            "\n",
            "*   **Definition:** Multimodal AI systems can process and understand information from various modalities, such as text, images, audio, and video.\n",
            "*   **Significance:** By combining different data streams, multimodal AI can achieve a more comprehensive understanding of the world. This leads to more accurate and reliable outcomes, better context awareness, and improved human-computer interactions.\n",
            "*   **My Unique Perspective:** Multimodal AI is not just about combining different data types; it's about creating AI that can \"perceive\" the world more like humans do. This has huge implications for applications like healthcare, where AI can analyze medical images, patient history, and real-time sensor data to provide more accurate diagnoses and personalized treatment plans. The key challenge is developing algorithms that can effectively integrate and reason across different modalities, capturing the complex relationships between them.\n",
            "\n",
            "3.  **Generative AI:**\n",
            "\n",
            "*   **Definition:** Generative AI is a type of AI that can generate new content, such as text, images, code, and music.\n",
            "*   **Significance:** Generative AI has the potential to revolutionize creative industries, automate content creation, and accelerate innovation. It can be used to design new products, create personalized marketing campaigns, and even write software code.\n",
            "*   **My Unique Perspective:** While generative AI is already making waves, its true potential lies in its ability to augment human creativity, not replace it. The most successful applications of generative AI will be those where humans and AI work together, with AI providing inspiration and automation, and humans providing guidance and artistic direction. However, we need to address concerns about intellectual property, bias, and the potential for misuse to ensure that generative AI is used responsibly and ethically.\u001b[00m\n",
            "\n",
            "\n",
            "\u001b[1m\u001b[95m# Agent:\u001b[00m \u001b[1m\u001b[92mContent Writer\u001b[00m\n",
            "\u001b[95m## Task:\u001b[00m \u001b[92mWrite an engaging blog post about the AI industry, based on the research analyst’s summary. Draw inspiration from the latest blog posts in the directory.1. The Content Writer will use the 'List files in directory' tool to list the files in the './blog-posts' directory to understand what posts are available for reference.\n",
            "2. The Content Writer will use the 'Read a file's content' tool to read the content of the latest blog posts in the directory to draw inspiration for the tone, style, and structure of the new blog post. The Content Writer should analyze several posts to identify common successful patterns.\n",
            "3. The Content Writer will review the summary provided by the Market Research Analyst regarding the top 3 AI trends.\n",
            "4. The Content Writer will then write a 4-paragraph blog post, formatted in markdown, about the AI industry, focusing on the 3 trends identified by the Market Research Analyst. The blog post will be written in an engaging and accessible manner, avoiding complex jargon.\n",
            "5. Ensure each paragraph contributes to a cohesive and informative piece, suitable for a wide audience. The blog post must reflect the unique perspectives provided in the research analyst’s summary.\u001b[00m\n",
            "\n",
            "\n",
            "\u001b[1m\u001b[95m# Agent:\u001b[00m \u001b[1m\u001b[92mContent Writer\u001b[00m\n",
            "\u001b[95m## Thought:\u001b[00m \u001b[92mOkay, I understand the task. I need to write a 4-paragraph blog post about the AI industry, focusing on Agentic AI, Multimodal AI, and Generative AI, drawing inspiration from the provided research analyst's summary and existing blog posts in the './blog-posts' directory. I will start by listing the files in the directory to get an idea of the existing content.\u001b[00m\n",
            "\u001b[95m## Using tool:\u001b[00m \u001b[92mList files in directory\u001b[00m\n",
            "\u001b[95m## Tool Input:\u001b[00m \u001b[92m\n",
            "\"{}\"\u001b[00m\n",
            "\u001b[95m## Tool Output:\u001b[00m \u001b[92m\n",
            "File paths: \n",
            "-\u001b[00m\n",
            "\n",
            "\n",
            "\u001b[1m\u001b[95m# Agent:\u001b[00m \u001b[1m\u001b[92mContent Writer\u001b[00m\n",
            "\u001b[95m## Final Answer:\u001b[00m \u001b[92m\n",
            "```markdown\n",
            "# The AI Revolution: Agentic, Multimodal, and Generative AI are Changing the Game\n",
            "\n",
            "The artificial intelligence landscape is evolving at an unprecedented pace, with three key trends leading the charge: Agentic AI, Multimodal AI, and Generative AI. These advancements are not just incremental improvements; they represent fundamental shifts in how AI systems operate, perceive, and create. As these technologies mature, they promise to reshape industries, augment human capabilities, and unlock entirely new possibilities.\n",
            "\n",
            "Agentic AI, which focuses on creating autonomous systems capable of independent decision-making and problem-solving, is poised to revolutionize workflows. Imagine AI agents proactively managing tasks, adapting to changing circumstances, and collaborating seamlessly with humans. While the potential is immense, the real challenge lies in ensuring these agents align with human values, operate transparently, and maintain appropriate levels of control, allowing us to focus on higher-level strategic initiatives. The future hinges on AI that collaborates, not just automates.\n",
            "\n",
            "Multimodal AI is enhancing AI's understanding of the world by enabling systems to process information from multiple sources, including text, images, and audio. This more comprehensive approach leads to more accurate and reliable outcomes. This technology allows AI to \"perceive\" the world in a way that mirrors human cognition, and can revolutionize healthcare. The capacity to analyze medical images, patient history, and real-time sensor data promises more accurate diagnoses and personalized treatment plans. Overcoming the challenges of integrating and reasoning across various modalities will unlock the full potential.\n",
            "\n",
            "Generative AI, capable of creating new content ranging from text and images to code and music, is rapidly transforming creative industries and accelerating innovation. While its current impact is undeniable, the true power of generative AI lies in its ability to augment human creativity rather than replace it. The most successful implementations will be those where AI provides inspiration and automates routine tasks, while humans offer guidance and artistic direction. Addressing critical issues like intellectual property, bias, and ethical considerations is essential to ensure its responsible and beneficial application.\n",
            "```\u001b[00m\n",
            "\n",
            "\n"
          ]
        },
        {
          "output_type": "execute_result",
          "data": {
            "text/plain": [
              "CrewOutput(raw='```markdown\\n# The AI Revolution: Agentic, Multimodal, and Generative AI are Changing the Game\\n\\nThe artificial intelligence landscape is evolving at an unprecedented pace, with three key trends leading the charge: Agentic AI, Multimodal AI, and Generative AI. These advancements are not just incremental improvements; they represent fundamental shifts in how AI systems operate, perceive, and create. As these technologies mature, they promise to reshape industries, augment human capabilities, and unlock entirely new possibilities.\\n\\nAgentic AI, which focuses on creating autonomous systems capable of independent decision-making and problem-solving, is poised to revolutionize workflows. Imagine AI agents proactively managing tasks, adapting to changing circumstances, and collaborating seamlessly with humans. While the potential is immense, the real challenge lies in ensuring these agents align with human values, operate transparently, and maintain appropriate levels of control, allowing us to focus on higher-level strategic initiatives. The future hinges on AI that collaborates, not just automates.\\n\\nMultimodal AI is enhancing AI\\'s understanding of the world by enabling systems to process information from multiple sources, including text, images, and audio. This more comprehensive approach leads to more accurate and reliable outcomes. This technology allows AI to \"perceive\" the world in a way that mirrors human cognition, and can revolutionize healthcare. The capacity to analyze medical images, patient history, and real-time sensor data promises more accurate diagnoses and personalized treatment plans. Overcoming the challenges of integrating and reasoning across various modalities will unlock the full potential.\\n\\nGenerative AI, capable of creating new content ranging from text and images to code and music, is rapidly transforming creative industries and accelerating innovation. While its current impact is undeniable, the true power of generative AI lies in its ability to augment human creativity rather than replace it. The most successful implementations will be those where AI provides inspiration and automates routine tasks, while humans offer guidance and artistic direction. Addressing critical issues like intellectual property, bias, and ethical considerations is essential to ensure its responsible and beneficial application.\\n```', pydantic=None, json_dict=None, tasks_output=[TaskOutput(description=\"Research the lastest trends in the AI industry and provide a summary?1. The Market Research Analyst will use the 'Search the internet with Serper' tool to research the latest trends in the AI industry. The search query will be: 'latest AI industry trends'.\\n2. The Market Research Analyst will analyze the search results to identify the top 3 trending developments in the AI industry.\\n3. For each of the top 3 trends, the Market Research Analyst will develop a unique perspective on their significance, considering potential impacts and future implications.\\n4. The Market Research Analyst will compile a summary document outlining the top 3 trends and their unique perspectives.\", name=None, expected_output='A summary of the top 3 trending developments in the AI Industry with  a unique perspective on their significance.', summary='Research the lastest trends in the AI industry and provide...', raw='**Top 3 Trending Developments in the AI Industry**\\n\\nHere\\'s a breakdown of the top 3 AI trends with my unique perspective:\\n\\n1.  **Agentic AI:**\\n\\n*   **Definition:** Agentic AI refers to AI systems that can autonomously perform tasks to achieve specific goals without continuous human intervention. They can plan, make decisions, and act independently.\\n*   **Significance:** Agentic AI is a major step toward truly intelligent systems. Instead of just reacting to commands, AI agents can proactively solve problems, manage complex workflows, and adapt to changing circumstances.\\n*   **My Unique Perspective:** While the promise of autonomous AI agents is exciting, the real game-changer will be when these agents can seamlessly collaborate with humans and each other. Imagine a future where AI agents handle routine tasks, freeing up humans to focus on creative and strategic work. However, this requires careful consideration of trust, transparency, and control to avoid unintended consequences. The challenge lies in designing agentic systems that are aligned with human values and goals.\\n\\n2.  **Multimodal AI:**\\n\\n*   **Definition:** Multimodal AI systems can process and understand information from various modalities, such as text, images, audio, and video.\\n*   **Significance:** By combining different data streams, multimodal AI can achieve a more comprehensive understanding of the world. This leads to more accurate and reliable outcomes, better context awareness, and improved human-computer interactions.\\n*   **My Unique Perspective:** Multimodal AI is not just about combining different data types; it\\'s about creating AI that can \"perceive\" the world more like humans do. This has huge implications for applications like healthcare, where AI can analyze medical images, patient history, and real-time sensor data to provide more accurate diagnoses and personalized treatment plans. The key challenge is developing algorithms that can effectively integrate and reason across different modalities, capturing the complex relationships between them.\\n\\n3.  **Generative AI:**\\n\\n*   **Definition:** Generative AI is a type of AI that can generate new content, such as text, images, code, and music.\\n*   **Significance:** Generative AI has the potential to revolutionize creative industries, automate content creation, and accelerate innovation. It can be used to design new products, create personalized marketing campaigns, and even write software code.\\n*   **My Unique Perspective:** While generative AI is already making waves, its true potential lies in its ability to augment human creativity, not replace it. The most successful applications of generative AI will be those where humans and AI work together, with AI providing inspiration and automation, and humans providing guidance and artistic direction. However, we need to address concerns about intellectual property, bias, and the potential for misuse to ensure that generative AI is used responsibly and ethically.', pydantic=None, json_dict=None, agent='Market Research Analyst', output_format=<OutputFormat.RAW: 'raw'>), TaskOutput(description=\"Write an engaging blog post about the AI industry, based on the research analyst’s summary. Draw inspiration from the latest blog posts in the directory.1. The Content Writer will use the 'List files in directory' tool to list the files in the './blog-posts' directory to understand what posts are available for reference.\\n2. The Content Writer will use the 'Read a file's content' tool to read the content of the latest blog posts in the directory to draw inspiration for the tone, style, and structure of the new blog post. The Content Writer should analyze several posts to identify common successful patterns.\\n3. The Content Writer will review the summary provided by the Market Research Analyst regarding the top 3 AI trends.\\n4. The Content Writer will then write a 4-paragraph blog post, formatted in markdown, about the AI industry, focusing on the 3 trends identified by the Market Research Analyst. The blog post will be written in an engaging and accessible manner, avoiding complex jargon.\\n5. Ensure each paragraph contributes to a cohesive and informative piece, suitable for a wide audience. The blog post must reflect the unique perspectives provided in the research analyst’s summary.\", name=None, expected_output='A 4-paragraph blog post formatted in markdown with engaging, informative, and accessible content, avoiding complex jargon.', summary='Write an engaging blog post about the AI industry, based...', raw='```markdown\\n# The AI Revolution: Agentic, Multimodal, and Generative AI are Changing the Game\\n\\nThe artificial intelligence landscape is evolving at an unprecedented pace, with three key trends leading the charge: Agentic AI, Multimodal AI, and Generative AI. These advancements are not just incremental improvements; they represent fundamental shifts in how AI systems operate, perceive, and create. As these technologies mature, they promise to reshape industries, augment human capabilities, and unlock entirely new possibilities.\\n\\nAgentic AI, which focuses on creating autonomous systems capable of independent decision-making and problem-solving, is poised to revolutionize workflows. Imagine AI agents proactively managing tasks, adapting to changing circumstances, and collaborating seamlessly with humans. While the potential is immense, the real challenge lies in ensuring these agents align with human values, operate transparently, and maintain appropriate levels of control, allowing us to focus on higher-level strategic initiatives. The future hinges on AI that collaborates, not just automates.\\n\\nMultimodal AI is enhancing AI\\'s understanding of the world by enabling systems to process information from multiple sources, including text, images, and audio. This more comprehensive approach leads to more accurate and reliable outcomes. This technology allows AI to \"perceive\" the world in a way that mirrors human cognition, and can revolutionize healthcare. The capacity to analyze medical images, patient history, and real-time sensor data promises more accurate diagnoses and personalized treatment plans. Overcoming the challenges of integrating and reasoning across various modalities will unlock the full potential.\\n\\nGenerative AI, capable of creating new content ranging from text and images to code and music, is rapidly transforming creative industries and accelerating innovation. While its current impact is undeniable, the true power of generative AI lies in its ability to augment human creativity rather than replace it. The most successful implementations will be those where AI provides inspiration and automates routine tasks, while humans offer guidance and artistic direction. Addressing critical issues like intellectual property, bias, and ethical considerations is essential to ensure its responsible and beneficial application.\\n```', pydantic=None, json_dict=None, agent='Content Writer', output_format=<OutputFormat.RAW: 'raw'>)], token_usage=UsageMetrics(total_tokens=29340, prompt_tokens=27277, cached_prompt_tokens=0, completion_tokens=2063, successful_requests=8))"
            ]
          },
          "metadata": {},
          "execution_count": 24
        }
      ]
    },
    {
      "cell_type": "code",
      "source": [
        "# prompt: import markdown for jupyter display\n",
        "\n",
        "import IPython\n",
        "import markdown\n",
        "\n",
        "# Assuming the content of your markdown file is in the variable 'markdown_content'\n",
        "# For example, if the file is named 'new_post.md' in your 'blog-posts' directory:\n",
        "with open('./blog-posts/new_post.md', 'r') as f:\n",
        "  markdown_content = f.read()\n",
        "\n",
        "\n",
        "# Convert the markdown content to HTML\n",
        "html = markdown.markdown(markdown_content)\n",
        "\n",
        "# Display the HTML in the Jupyter Notebook\n",
        "IPython.display.HTML(html)\n"
      ],
      "metadata": {
        "colab": {
          "base_uri": "https://localhost:8080/",
          "height": 593
        },
        "id": "NaP0gdEwCq3G",
        "outputId": "890a53cc-fa7d-47cd-a20b-280ae210494b"
      },
      "execution_count": null,
      "outputs": [
        {
          "output_type": "execute_result",
          "data": {
            "text/plain": [
              "<IPython.core.display.HTML object>"
            ],
            "text/html": [
              "<p>```markdown</p>\n",
              "<h1>The AI Revolution: Agentic, Multimodal, and Generative AI are Changing the Game</h1>\n",
              "<p>The artificial intelligence landscape is evolving at an unprecedented pace, with three key trends leading the charge: Agentic AI, Multimodal AI, and Generative AI. These advancements are not just incremental improvements; they represent fundamental shifts in how AI systems operate, perceive, and create. As these technologies mature, they promise to reshape industries, augment human capabilities, and unlock entirely new possibilities.</p>\n",
              "<p>Agentic AI, which focuses on creating autonomous systems capable of independent decision-making and problem-solving, is poised to revolutionize workflows. Imagine AI agents proactively managing tasks, adapting to changing circumstances, and collaborating seamlessly with humans. While the potential is immense, the real challenge lies in ensuring these agents align with human values, operate transparently, and maintain appropriate levels of control, allowing us to focus on higher-level strategic initiatives. The future hinges on AI that collaborates, not just automates.</p>\n",
              "<p>Multimodal AI is enhancing AI's understanding of the world by enabling systems to process information from multiple sources, including text, images, and audio. This more comprehensive approach leads to more accurate and reliable outcomes. This technology allows AI to \"perceive\" the world in a way that mirrors human cognition, and can revolutionize healthcare. The capacity to analyze medical images, patient history, and real-time sensor data promises more accurate diagnoses and personalized treatment plans. Overcoming the challenges of integrating and reasoning across various modalities will unlock the full potential.</p>\n",
              "<p>Generative AI, capable of creating new content ranging from text and images to code and music, is rapidly transforming creative industries and accelerating innovation. While its current impact is undeniable, the true power of generative AI lies in its ability to augment human creativity rather than replace it. The most successful implementations will be those where AI provides inspiration and automates routine tasks, while humans offer guidance and artistic direction. Addressing critical issues like intellectual property, bias, and ethical considerations is essential to ensure its responsible and beneficial application.\n",
              "```</p>"
            ]
          },
          "metadata": {},
          "execution_count": 28
        }
      ]
    },
    {
      "cell_type": "markdown",
      "source": [
        "## Creating your own Tools"
      ],
      "metadata": {
        "id": "pWYho2f0H0PC"
      }
    },
    {
      "cell_type": "code",
      "source": [
        "# #First Method of creating tool\n",
        "# from crewai.tools import BaseTool\n",
        "# from pydantic import BaseModel, Field\n",
        "# from typing import Type\n",
        "\n",
        "# class MyToolInput(BaseModel):\n",
        "#     \"\"\"Input Schema for MyCustomTool.\"\"\"\n",
        "#     stuent_name: str = Field(...,description=\"Student name\")\n",
        "#     student_roll_no: int = Field(...,description=\"student id\")\n",
        "\n",
        "\n",
        "# class PiaicStudentCard(BaseTool):\n",
        "#     name: str = \"Piaic student card generator\"\n",
        "#     description: str = \"this function will create Piaic student card\"\n",
        "#     args_schema: Type[BaseModel] = MyToolInput\n",
        "\n",
        "#     def _run(self, student_name: str, student_roll_no: int) ->str:\n",
        "#       # Your tools logic here\n",
        "#       return f\"\"\"PIAIC Student Card\n",
        "#       Student name: {student_name}\n",
        "#       student roll no: {student_roll_no}\n",
        "#       Pakistan Zindabad!\n",
        "#       \"\"\"\n",
        "\n",
        "\n",
        "from crewai.tools import BaseTool\n",
        "from pydantic import BaseModel, Field\n",
        "from typing import Type\n",
        "\n",
        "class MyToolInput(BaseModel):\n",
        "    \"\"\"Input schema for MyCustomTool.\"\"\"\n",
        "    student_name: str = Field(..., description=\"Student name\")\n",
        "    student_roll_no : int = Field(..., description=\"student id\")\n",
        "\n",
        "class PiaicStudentCard(BaseTool):\n",
        "    name: str = \"Piaic student card generator\"\n",
        "    description: str = \"this function will create Piaic student card\"\n",
        "    args_schema: Type[BaseModel] = MyToolInput\n",
        "\n",
        "    def _run(self, student_name: str, student_roll_no: int ) -> str:\n",
        "        # Your tool's logic here\n",
        "        return f\"\"\"PIAIC student card\n",
        "student name: {student_name}\n",
        "student roll no: {student_roll_no}\n",
        "Pakistan zindabd!\n",
        "        \"\"\""
      ],
      "metadata": {
        "id": "iWKf9krwGfn4"
      },
      "execution_count": 40,
      "outputs": []
    },
    {
      "cell_type": "code",
      "source": [
        "#2nd Method of  creating tool\n",
        "from crewai.tools import tool\n",
        "\n",
        "@tool(\"PIAIC fee update\")\n",
        "def my_tool(roll_no: int) ->dict | str:\n",
        "  \"\"\"this function search piaic student fee updates it will required roll of PIAIC student\"\"\"\n",
        "  #database\n",
        "\n",
        "\n",
        "  data = {100: \"paid\",\n",
        "          200: \"unpaid\"}\n",
        "\n",
        "  status = data.get(roll_no)\n",
        "  if status:\n",
        "    return {\"status\": status}\n",
        "  else:\n",
        "    return \"student not found\""
      ],
      "metadata": {
        "id": "c1EBt9gflRYy"
      },
      "execution_count": 41,
      "outputs": []
    },
    {
      "cell_type": "code",
      "source": [
        "from crewai import Agent, Task, Crew\n",
        "\n",
        "card = PiaicStudentCard()\n",
        "\n",
        "\n",
        "piaic_manager = Agent(\n",
        "    role=\"PIAIC manager\",\n",
        "    goal = \"Manage all quries regarding PIAIC and you will use only relevant tools for student query\",\n",
        "    backstory=\"\"\"You are a master at understanding people and their preferences.\"\"\",\n",
        "    tools=[card, my_tool],\n",
        "    verbose=True,\n",
        "    llm=llm1\n",
        ")\n",
        "\n",
        "piaic_card_creator = Task(\n",
        "    description=\"you will be responsible for all PIAIC relevant operations, student query '{query}' you must be know how to answer his question based on final context\",\n",
        "    expected_output=\"final query answer only\",\n",
        "    agent=piaic_manager\n",
        ")\n",
        "\n",
        "crew = Crew(\n",
        "    agents=[piaic_manager],\n",
        "    tasks=[piaic_card_creator],\n",
        "    verbose=True\n",
        ")\n",
        "\n",
        "result = crew.kickoff(inputs={\n",
        "    \"query\":\"I'm PIAIC student my name is Muhammad Qasim and my roll number is 100, can you create my student card.\"\n",
        "})\n",
        "\n",
        "print(result)\n"
      ],
      "metadata": {
        "colab": {
          "base_uri": "https://localhost:8080/"
        },
        "id": "4F9G3bV1wOq-",
        "outputId": "8675d2a8-9860-4278-abef-62eb5c090e48"
      },
      "execution_count": 42,
      "outputs": [
        {
          "output_type": "stream",
          "name": "stderr",
          "text": [
            "WARNING:opentelemetry.trace:Overriding of current TracerProvider is not allowed\n"
          ]
        },
        {
          "output_type": "stream",
          "name": "stdout",
          "text": [
            "\u001b[1m\u001b[95m# Agent:\u001b[00m \u001b[1m\u001b[92mPIAIC manager\u001b[00m\n",
            "\u001b[95m## Task:\u001b[00m \u001b[92myou will be responsible for all PIAIC relevant operations, student query 'I'm PIAIC student my name is Muhammad Qasim and my roll number is 100, can you create my student card.' you must be know how to answer his question based on final context\u001b[00m\n",
            "\n",
            "\n",
            "\u001b[1m\u001b[95m# Agent:\u001b[00m \u001b[1m\u001b[92mPIAIC manager\u001b[00m\n",
            "\u001b[95m## Thought:\u001b[00m \u001b[92mThe user is asking to generate a student card. I have the student's name and roll number, so I can use the \"Piaic student card generator\" tool.\u001b[00m\n",
            "\u001b[95m## Using tool:\u001b[00m \u001b[92mPiaic student card generator\u001b[00m\n",
            "\u001b[95m## Tool Input:\u001b[00m \u001b[92m\n",
            "\"{\\\"student_name\\\": \\\"Muhammad Qasim\\\", \\\"student_roll_no\\\": 100}\"\u001b[00m\n",
            "\u001b[95m## Tool Output:\u001b[00m \u001b[92m\n",
            "PIAIC student card\n",
            "student name: Muhammad Qasim\n",
            "student roll no: 100\n",
            "Pakistan zindabd!\n",
            "        \u001b[00m\n",
            "\n",
            "\n",
            "\u001b[1m\u001b[95m# Agent:\u001b[00m \u001b[1m\u001b[92mPIAIC manager\u001b[00m\n",
            "\u001b[95m## Final Answer:\u001b[00m \u001b[92m\n",
            "PIAIC student card\n",
            "student name: Muhammad Qasim\n",
            "student roll no: 100\n",
            "Pakistan zindabd!\u001b[00m\n",
            "\n",
            "\n",
            "PIAIC student card\n",
            "student name: Muhammad Qasim\n",
            "student roll no: 100\n",
            "Pakistan zindabd!\n"
          ]
        }
      ]
    },
    {
      "cell_type": "code",
      "source": [
        "result = crew.kickoff(inputs={\n",
        "    \"query\":\"I'm PIAIC student  my roll number is 200, can you share my fee updates?.\"\n",
        "})\n",
        "\n",
        "print(result)"
      ],
      "metadata": {
        "colab": {
          "base_uri": "https://localhost:8080/"
        },
        "id": "0UZ6CrCZ0OoH",
        "outputId": "fc83d723-8f67-4deb-b4da-c360b4413085"
      },
      "execution_count": 44,
      "outputs": [
        {
          "output_type": "stream",
          "name": "stdout",
          "text": [
            "\u001b[1m\u001b[95m# Agent:\u001b[00m \u001b[1m\u001b[92mPIAIC manager\u001b[00m\n",
            "\u001b[95m## Task:\u001b[00m \u001b[92myou will be responsible for all PIAIC relevant operations, student query 'I'm PIAIC student  my roll number is 200, can you share my fee updates?.' you must be know how to answer his question based on final context\u001b[00m\n",
            "\n",
            "\n",
            "\u001b[1m\u001b[95m# Agent:\u001b[00m \u001b[1m\u001b[92mPIAIC manager\u001b[00m\n",
            "\u001b[95m## Using tool:\u001b[00m \u001b[92mPIAIC fee update\u001b[00m\n",
            "\u001b[95m## Tool Input:\u001b[00m \u001b[92m\n",
            "\"{\\\"roll_no\\\": 200}\"\u001b[00m\n",
            "\u001b[95m## Tool Output:\u001b[00m \u001b[92m\n",
            "{'status': 'unpaid'}\n",
            "\n",
            "\n",
            "You ONLY have access to the following tools, and should NEVER make up tools that are not listed here:\n",
            "\n",
            "Tool Name: Piaic student card generator\n",
            "Tool Arguments: {'student_name': {'description': 'Student name', 'type': 'str'}, 'student_roll_no': {'description': 'student id', 'type': 'int'}}\n",
            "Tool Description: this function will create Piaic student card\n",
            "Tool Name: PIAIC fee update\n",
            "Tool Arguments: {'roll_no': {'description': None, 'type': 'int'}}\n",
            "Tool Description: this function search piaic student fee updates it will required roll of PIAIC student\n",
            "\n",
            "IMPORTANT: Use the following format in your response:\n",
            "\n",
            "```\n",
            "Thought: you should always think about what to do\n",
            "Action: the action to take, only one name of [Piaic student card generator, PIAIC fee update], just the name, exactly as it's written.\n",
            "Action Input: the input to the action, just a simple JSON object, enclosed in curly braces, using \" to wrap keys and values.\n",
            "Observation: the result of the action\n",
            "```\n",
            "\n",
            "Once all necessary information is gathered, return the following format:\n",
            "\n",
            "```\n",
            "Thought: I now know the final answer\n",
            "Final Answer: the final answer to the original input question\n",
            "```\u001b[00m\n",
            "\u001b[91m Received None or empty response from LLM call.\u001b[00m\n",
            "\u001b[91m An unknown error occurred. Please check the details below.\u001b[00m\n",
            "\u001b[91m Error details: Invalid response from LLM call - None or empty.\u001b[00m\n",
            "\u001b[91m An unknown error occurred. Please check the details below.\u001b[00m\n",
            "\u001b[91m Error details: Invalid response from LLM call - None or empty.\u001b[00m\n",
            "\u001b[1m\u001b[95m# Agent:\u001b[00m \u001b[1m\u001b[92mPIAIC manager\u001b[00m\n",
            "\u001b[95m## Task:\u001b[00m \u001b[92myou will be responsible for all PIAIC relevant operations, student query 'I'm PIAIC student  my roll number is 200, can you share my fee updates?.' you must be know how to answer his question based on final context\u001b[00m\n",
            "\n",
            "\n",
            "\u001b[1m\u001b[95m# Agent:\u001b[00m \u001b[1m\u001b[92mPIAIC manager\u001b[00m\n",
            "\u001b[95m## Using tool:\u001b[00m \u001b[92mPIAIC fee update\u001b[00m\n",
            "\u001b[95m## Tool Input:\u001b[00m \u001b[92m\n",
            "\"{\\\"roll_no\\\": 200}\"\u001b[00m\n",
            "\u001b[95m## Tool Output:\u001b[00m \u001b[92m\n",
            "{'status': 'unpaid'}\u001b[00m\n",
            "\n",
            "\n",
            "\u001b[1m\u001b[95m# Agent:\u001b[00m \u001b[1m\u001b[92mPIAIC manager\u001b[00m\n",
            "\u001b[95m## Final Answer:\u001b[00m \u001b[92m\n",
            "your fee status is unpaid.\u001b[00m\n",
            "\n",
            "\n",
            "your fee status is unpaid.\n"
          ]
        }
      ]
    },
    {
      "cell_type": "markdown",
      "source": [
        "# Process"
      ],
      "metadata": {
        "id": "_gDVlbXhejJk"
      }
    },
    {
      "cell_type": "code",
      "source": [
        "import os\n",
        "from crewai import Agent, Task, Crew, Process\n",
        "\n",
        "# Importing crewAI tools\n",
        "from crewai_tools import (\n",
        "    DirectoryReadTool,\n",
        "    FileReadTool,\n",
        "    SerperDevTool,\n",
        "    WebsiteSearchTool\n",
        ")\n",
        "\n",
        "\n",
        "\n",
        "# Instantiate tools\n",
        "docs_tool = DirectoryReadTool(directory='./blog-posts2')\n",
        "file_tool = FileReadTool()\n",
        "search_tool = SerperDevTool()\n",
        "# web_rag_tool = WebsiteSearchTool()\n",
        "\n",
        "#Define your agents\n",
        "researcher = Agent(\n",
        "    role=\"Researcher\",\n",
        "    goal=\"Conduct thorough research and analysis on AI and AI Agents\",\n",
        "    backstory=\"You're an expert researcher, specialized in technology, software engineering, AI and startups. You work as a freelancer and are currently researching for a new client.\",\n",
        "    allow_delegation=False,\n",
        "    tools=[search_tool],\n",
        "    llm=llm1\n",
        ")\n",
        "\n",
        "writer = Agent(\n",
        "    role=\"Senior Writer\",\n",
        "    goal=\"Create compelling content about AI and AI agents\",\n",
        "    backstory=\"You're a senior writer, specialized in technology, software engineering, AI, and startups. You work as a freelancer and are currently writing content for a new client.\",\n",
        "    allow_delegation=False,\n",
        "    tools=[docs_tool, file_tool],\n",
        "    llm=llm1\n",
        ")\n",
        "\n",
        "\n",
        "# Define your task\n",
        "task = Task(\n",
        "    description=\"Generate a list of 5 interesting ideas for an article, then write one captivating paragraph for each idea that showcases the potential of a full article on this topic. Return the list of ideas with thier paragraphs and your notes.\",\n",
        "    expected_output=\"5 bullet points, each with a paragraph and accompanying notes.\",\n",
        ")\n",
        "\n",
        "# Define the manager agent\n",
        "manager = Agent(\n",
        "    role=\"Project Manager\",\n",
        "    goal=\"Efficiently manage the crew and ensure high-quality task completion\",\n",
        "    backstory=\"You're an experienced project manager, skilled in overseeing complex projects and guiding teams to success. Your role is to coordinate the efforts of the crew members, ensuring that each task is completed on time and to the highest standard.\",\n",
        "    allow_delegation=True,\n",
        "    llm=llm1\n",
        ")\n",
        "\n",
        "#Intantiate your crew with a custom manager\n",
        "crew = Crew(\n",
        "    agents=[researcher,writer],\n",
        "    tasks=[task],\n",
        "    manager_agent=manager,\n",
        "    function_calling_llm=llm1,\n",
        "    process=Process.hierarchical,\n",
        "    verbose=True,\n",
        ")\n",
        "\n",
        "#Start the crew's work\n",
        "result=crew.kickoff()\n",
        "from IPython.display import display, Markdown\n",
        "display(Markdown(result))"
      ],
      "metadata": {
        "colab": {
          "base_uri": "https://localhost:8080/",
          "height": 1000
        },
        "id": "kbOdxvdj4jaU",
        "outputId": "1ac1128b-2008-4892-f68d-3af08111fe11"
      },
      "execution_count": 14,
      "outputs": [
        {
          "output_type": "stream",
          "name": "stderr",
          "text": [
            "/usr/local/lib/python3.11/dist-packages/pydantic/_internal/_config.py:295: PydanticDeprecatedSince20: Support for class-based `config` is deprecated, use ConfigDict instead. Deprecated in Pydantic V2.0 to be removed in V3.0. See Pydantic V2 Migration Guide at https://errors.pydantic.dev/2.10/migration/\n",
            "  warnings.warn(DEPRECATION_MESSAGE, DeprecationWarning)\n",
            "/usr/local/lib/python3.11/dist-packages/pydantic/_internal/_generate_schema.py:502: UserWarning: <built-in function callable> is not a Python type (it may be an instance of an object), Pydantic will allow any object with no validation since we cannot even enforce that the input is an instance of the given type. To get rid of this error wrap the type with `pydantic.SkipValidation`.\n",
            "  warn(\n",
            "/usr/local/lib/python3.11/dist-packages/crewai_tools/tools/scrapegraph_scrape_tool/scrapegraph_scrape_tool.py:34: PydanticDeprecatedSince20: Pydantic V1 style `@validator` validators are deprecated. You should migrate to Pydantic V2 style `@field_validator` validators, see the migration guide for more details. Deprecated in Pydantic V2.0 to be removed in V3.0. See Pydantic V2 Migration Guide at https://errors.pydantic.dev/2.10/migration/\n",
            "  @validator(\"website_url\")\n",
            "/usr/local/lib/python3.11/dist-packages/crewai_tools/tools/selenium_scraping_tool/selenium_scraping_tool.py:26: PydanticDeprecatedSince20: Pydantic V1 style `@validator` validators are deprecated. You should migrate to Pydantic V2 style `@field_validator` validators, see the migration guide for more details. Deprecated in Pydantic V2.0 to be removed in V3.0. See Pydantic V2 Migration Guide at https://errors.pydantic.dev/2.10/migration/\n",
            "  @validator(\"website_url\")\n",
            "/usr/local/lib/python3.11/dist-packages/crewai_tools/tools/vision_tool/vision_tool.py:15: PydanticDeprecatedSince20: Pydantic V1 style `@validator` validators are deprecated. You should migrate to Pydantic V2 style `@field_validator` validators, see the migration guide for more details. Deprecated in Pydantic V2.0 to be removed in V3.0. See Pydantic V2 Migration Guide at https://errors.pydantic.dev/2.10/migration/\n",
            "  @validator(\"image_path_url\")\n"
          ]
        },
        {
          "output_type": "stream",
          "name": "stdout",
          "text": [
            "\u001b[1m\u001b[95m# Agent:\u001b[00m \u001b[1m\u001b[92mProject Manager\u001b[00m\n",
            "\u001b[95m## Task:\u001b[00m \u001b[92mGenerate a list of 5 interesting ideas for an article, then write one captivating paragraph for each idea that showcases the potential of a full article on this topic. Return the list of ideas with thier paragraphs and your notes.\u001b[00m\n",
            "\n",
            "\n",
            "\u001b[1m\u001b[95m# Agent:\u001b[00m \u001b[1m\u001b[92mProject Manager\u001b[00m\n",
            "\u001b[95m## Using tool:\u001b[00m \u001b[92mDelegate work to coworker\u001b[00m\n",
            "\u001b[95m## Tool Input:\u001b[00m \u001b[92m\n",
            "\"{\\\"task\\\": {\\\"description\\\": \\\"Research and provide a list of 5 trending topics or interesting areas that could be developed into engaging articles. For each suggested topic, provide a brief explanation of why it's currently relevant or interesting. Focus on topics that can capture a wide audience and are suitable for a general interest blog.\\\"}, \\\"context\\\": {\\\"description\\\": \\\"I need you to identify potential topics for articles. I will take this research and create the articles, you just need to provide the topics and why they are relevant.\\\"}, \\\"coworker\\\": \\\"Researcher\\\"}\"\u001b[00m\n",
            "\u001b[95m## Tool Output:\u001b[00m \u001b[92m\n",
            "\n",
            "I encountered an error while trying to use the tool. This was the error: Arguments validation failed: 2 validation errors for DelegateWorkToolSchema\n",
            "task\n",
            "  Input should be a valid string [type=string_type, input_value={'description': \"Research...general interest blog.\"}, input_type=dict]\n",
            "    For further information visit https://errors.pydantic.dev/2.10/v/string_type\n",
            "context\n",
            "  Input should be a valid string [type=string_type, input_value={'description': 'I need y...why they are relevant.'}, input_type=dict]\n",
            "    For further information visit https://errors.pydantic.dev/2.10/v/string_type.\n",
            " Tool Delegate work to coworker accepts these inputs: Tool Name: Delegate work to coworker\n",
            "Tool Arguments: {'task': {'description': 'The task to delegate', 'type': 'str'}, 'context': {'description': 'The context for the task', 'type': 'str'}, 'coworker': {'description': 'The role/name of the coworker to delegate to', 'type': 'str'}}\n",
            "Tool Description: Delegate a specific task to one of the following coworkers: Researcher, Senior Writer\n",
            "The input to this tool should be the coworker, the task you want them to do, and ALL necessary context to execute the task, they know nothing about the task, so share absolute everything you know, don't reference things but instead explain them..\n",
            "Moving on then. I MUST either use a tool (use one at time) OR give my best final answer not both at the same time. When responding, I must use the following format:\n",
            "\n",
            "```\n",
            "Thought: you should always think about what to do\n",
            "Action: the action to take, should be one of [Delegate work to coworker, Ask question to coworker]\n",
            "Action Input: the input to the action, dictionary enclosed in curly braces\n",
            "Observation: the result of the action\n",
            "```\n",
            "This Thought/Action/Action Input/Result can repeat N times. Once I know the final answer, I must return the following format:\n",
            "\n",
            "```\n",
            "Thought: I now can give a great answer\n",
            "Final Answer: Your final answer must be the great and the most complete as possible, it must be outcome described\n",
            "\n",
            "```\u001b[00m\n",
            "\u001b[1m\u001b[95m# Agent:\u001b[00m \u001b[1m\u001b[92mResearcher\u001b[00m\n",
            "\u001b[95m## Task:\u001b[00m \u001b[92mResearch and provide a list of 5 trending topics or interesting areas that could be developed into engaging articles. For each suggested topic, provide a brief explanation of why it's currently relevant or interesting. Focus on topics that can capture a wide audience and are suitable for a general interest blog.\u001b[00m\n",
            "\n",
            "\n",
            "\u001b[1m\u001b[95m# Agent:\u001b[00m \u001b[1m\u001b[92mResearcher\u001b[00m\n",
            "\u001b[95m## Thought:\u001b[00m \u001b[92mOkay, I need to identify 5 trending and engaging topics suitable for general interest articles. I will use the search tool to find trending topics in AI and related areas that can appeal to a wide audience. I'll then explain why each topic is relevant.\u001b[00m\n",
            "\u001b[95m## Using tool:\u001b[00m \u001b[92mSearch the internet with Serper\u001b[00m\n",
            "\u001b[95m## Tool Input:\u001b[00m \u001b[92m\n",
            "\"{\\\"search_query\\\": \\\"trending AI topics general interest\\\"}\"\u001b[00m\n",
            "\u001b[95m## Tool Output:\u001b[00m \u001b[92m\n",
            "{'searchParameters': {'q': 'trending AI topics general interest', 'type': 'search', 'num': 10, 'engine': 'google'}, 'organic': [{'title': '8 AI and machine learning trends to watch in 2025 | TechTarget', 'link': 'https://www.techtarget.com/searchenterpriseai/tip/9-top-AI-and-machine-learning-trends', 'snippet': 'Explore the key trends shaping AI in 2025, from multimodal models and AI agents to security challenges and evolving regulatory landscapes.', 'position': 1}, {'title': 'These Topmost AI Topics Officially Proclaimed As Driving ... - Forbes', 'link': 'https://www.forbes.com/sites/lanceeliot/2025/03/05/these-topmost-ai-topics-officially-proclaimed-as-driving-the-future-of-ai/', 'snippet': '(2) AI Factuality & Trustworthiness: “Improving factuality and trustworthiness of AI systems is the single largest topic of AI research today, ...', 'position': 2}, {'title': '5 AI Trends to Watch in 2025 | Coursera', 'link': 'https://www.coursera.org/articles/ai-trends', 'snippet': 'Here are five of the top AI trends you can expect to see in 2024. 1. Generative AI and democratization Generative AI is arguably the biggest trend in AI this ...', 'position': 3}, {'title': 'Hot Topics: Artificial Intelligence: Home - Subject Guides', 'link': 'https://libguides.library.umaine.edu/ai', 'snippet': 'Why the Interest? · Try Generative AI Yourself · AI in Higher Ed · AI and Bias · Deepfakes and Sexual Harassment · AI and Copyright.', 'position': 4}, {'title': 'Trending Topics: Artificial Intelligence (AI) in Healthcare - Veradigm', 'link': 'https://veradigm.com/artificial-intelligence-healthcare/', 'snippet': \"We have compiled this in-depth guide to AI: what it is, AI's role in healthcare, AI's current and developing healthcare applications, benefits and challenges.\", 'position': 5}, {'title': '14 AI Trends Transforming Tech in 2025 and Beyond | DigitalOcean', 'link': 'https://www.digitalocean.com/resources/articles/ai-trends', 'snippet': 'From AI-powered search engines enabling interactive knowledge synthesis to generative systems transforming creative work to intelligent automation reshaping ...', 'position': 6}, {'title': 'What topics in artificial intelligence do you wish more people ... - Quora', 'link': 'https://www.quora.com/What-topics-in-artificial-intelligence-do-you-wish-more-people-would-talk-about', 'snippet': \"I'm interested in discussing AI topics like machine learning, natural language processing, AI in education, ethical implications, and AI-driven ...\", 'position': 7, 'sitelinks': [{'title': 'Artificial intelligence research: which topics are you most interested ...', 'link': 'https://www.quora.com/Artificial-intelligence-research-which-topics-are-you-most-interested-in-and-why'}, {'title': 'What are some promising topics for undergraduate research in AI?', 'link': 'https://www.quora.com/What-are-some-promising-topics-for-undergraduate-research-in-AI'}, {'title': 'Which topics of AI do you find important yet are less popular ... - Quora', 'link': 'https://www.quora.com/Which-topics-of-AI-do-you-find-important-yet-are-less-popular-to-discuss-at-conferences-or-events'}, {'title': 'What are the best/suitable research topics in artificial intelligence for ...', 'link': 'https://www.quora.com/What-are-the-best-suitable-research-topics-in-artificial-intelligence-for-undergraduates'}]}, {'title': '[D] What AI topics are you curious about but rarely see in the spotlight?', 'link': 'https://www.reddit.com/r/MachineLearning/comments/17riznw/d_what_ai_topics_are_you_curious_about_but_rarely/', 'snippet': 'Multi-model systems. Very new and trending in cv and nlp. Personally i want to see reinforcement learning added to this. I believe that would be ...', 'position': 8}, {'title': 'Future of AI: 7 Key AI Trends For 2025 & 2026 - Exploding Topics', 'link': 'https://explodingtopics.com/blog/future-of-ai', 'snippet': 'From personalized healthcare to automated investing, AI has the potential to revolutionize nearly every aspect of business.', 'position': 9}, {'title': 'Top 30 Artificial Intelligence Project Ideas in 2025 - Simplilearn.com', 'link': 'https://www.simplilearn.com/tutorials/artificial-intelligence-tutorial/ai-project-ideas', 'snippet': 'AI is a vast field. Consider specializing in areas that interest you the most, such as robotics, natural language processing, or computer vision ...', 'position': 10, 'sitelinks': [{'title': 'The Ultimate Guide to Forward...', 'link': 'https://www.simplilearn.com/tutorials/artificial-intelligence-tutorial/forward-and-backward-chaining-in-ai'}, {'title': 'Introduction to Long Short...', 'link': 'https://www.simplilearn.com/tutorials/artificial-intelligence-tutorial/lstm'}]}], 'peopleAlsoAsk': [{'question': 'What is trending in AI right now?', 'snippet': \"Let's get agentic AI — the kind of AI that does tasks independently — out of the way first: It's a sure bet for 2025's “most trending AI trend.” Agentic AI seems to be on an inevitable rise: Everybody in the tech vendor and analyst worlds is excited about the prospect of having AI programs collaborate to do real work ...\", 'title': 'Five Trends in AI and Data Science for 2025', 'link': 'https://sloanreview.mit.edu/article/five-trends-in-ai-and-data-science-for-2025/'}, {'question': 'What are the big 5 AI ideas?', 'snippet': 'WHAT ARE THE FIVE BIG IDEAS IN AI?\\nBig Idea #1 – Perception.\\nBig Idea #2 – Representation & Reasoning.\\nBig Idea #3 – Learning.\\nBig Idea #4 – Natural Interaction.\\nBig Idea #5 – Societal Impact.', 'title': 'The Five Big Ideas in Artificial Intelligence - UBTECH Education', 'link': 'https://ubtecheducation.com/5-big-ideas-in-ai/'}, {'question': 'What is the best topic for AI?', 'snippet': '10 ADVANCED ARTIFICIAL INTELLIGENCE PROJECTS\\nConversational AI for Customer Service. ...\\nReal-Time Sports Analytics System. ...\\nPersonalized Education Platform. ...\\nFinancial Market Prediction System. ...\\nAdvanced Fraud Detection System. ...\\nSmart Agriculture System. ...\\nIntelligent Video Surveillance System. ...\\nEnergy Consumption Optimization.', 'title': 'Top 30 Artificial Intelligence Project Ideas in 2025 - Simplilearn.com', 'link': 'https://www.simplilearn.com/tutorials/artificial-intelligence-tutorial/ai-project-ideas'}, {'question': 'What is the hottest topic in machine learning?', 'snippet': 'THE HOTTEST TOPICS IN MACHINE LEARNING\\n1\\nLoading the NIPS papers. ...\\n2\\nPreparing the data for analysis. ...\\n3\\nPlotting how machine learning has evolved over time. ...\\n4\\nPreprocessing the text data. ...\\n5\\nA word cloud to visualize the preprocessed text data. ...\\n6\\nPrepare the text for LDA analysis. ...\\n7\\nAnalysing trends with LDA. ...\\n8\\nThe future of machine learning.', 'title': 'The Hottest Topics in Machine Learning - Kaggle', 'link': 'https://www.kaggle.com/code/arpitdw/the-hottest-topics-in-machine-learning'}], 'relatedSearches': [{'query': 'Trending ai topics general interest for students'}, {'query': 'Top 10 AI trends'}, {'query': 'Emerging trends in Artificial Intelligence'}, {'query': 'Current trends in Artificial intelligence PDF'}, {'query': 'AI trends 2025'}, {'query': 'Artificial intelligence trends in business'}, {'query': 'Latest AI technology news'}, {'query': 'AI trends website'}], 'credits': 1}\u001b[00m\n",
            "\n",
            "\n",
            "\u001b[1m\u001b[95m# Agent:\u001b[00m \u001b[1m\u001b[92mResearcher\u001b[00m\n",
            "\u001b[95m## Final Answer:\u001b[00m \u001b[92m\n",
            "1.  **AI Agents:** The rise of AI agents that can independently perform tasks is a hot topic. An article could explore what AI agents are, how they work, their potential applications in everyday life (e.g., automating shopping, managing schedules), and the ethical considerations surrounding their increasing autonomy. This is relevant because AI agents promise to revolutionize how we interact with technology, automating many tasks and potentially impacting jobs.\n",
            "\n",
            "2.  **Generative AI and its Democratization:** Generative AI, which can create text, images, and other content, is rapidly becoming more accessible to the general public. An article could cover the basics of generative AI, showcase examples of its use in creative fields (art, music, writing), discuss the tools available to non-experts, and address concerns about copyright and misinformation. This is timely because generative AI tools are becoming increasingly user-friendly, empowering individuals and businesses alike, while also raising important societal questions.\n",
            "\n",
            "3.  **AI and Cybersecurity:** With the increasing reliance on AI, cybersecurity threats are also evolving. An article could delve into how AI is being used both to enhance cybersecurity (e.g., detecting threats, automating responses) and to perpetrate cyberattacks (e.g., creating sophisticated phishing campaigns). It could also discuss the challenges of securing AI systems themselves. This is relevant because as AI becomes more integrated into our lives and infrastructure, its security becomes paramount.\n",
            "\n",
            "4.  **The Ethical Implications of AI:** AI raises a host of ethical concerns, including bias, fairness, transparency, and accountability. An article could explore these issues, providing real-world examples of how AI systems can perpetuate bias or lead to unfair outcomes. It could also discuss efforts to develop ethical guidelines and regulations for AI. This is crucial because as AI systems become more powerful, it is essential to ensure that they are used responsibly and ethically.\n",
            "\n",
            "5.  **AI in Healthcare:** AI is transforming healthcare in numerous ways, from diagnosing diseases to personalizing treatment plans. An article could examine the current applications of AI in healthcare, such as AI-powered diagnostic tools, robotic surgery, and drug discovery. It could also discuss the potential benefits and challenges of AI in this field, including issues related to data privacy and patient safety. This is relevant because AI has the potential to significantly improve healthcare outcomes and make healthcare more accessible, but its implementation requires careful consideration of ethical and practical issues.\u001b[00m\n",
            "\n",
            "\n",
            "\n",
            "\n",
            "\u001b[1m\u001b[95m# Agent:\u001b[00m \u001b[1m\u001b[92mProject Manager\u001b[00m\n",
            "\u001b[95m## Using tool:\u001b[00m \u001b[92mDelegate work to coworker\u001b[00m\n",
            "\u001b[95m## Tool Input:\u001b[00m \u001b[92m\n",
            "\"{\\\"task\\\": \\\"Research and provide a list of 5 trending topics or interesting areas that could be developed into engaging articles. For each suggested topic, provide a brief explanation of why it's currently relevant or interesting. Focus on topics that can capture a wide audience and are suitable for a general interest blog.\\\", \\\"context\\\": \\\"I need you to identify potential topics for articles. I will take this research and create the articles, you just need to provide the topics and why they are relevant. Ensure the topics are broad enough to allow for engaging content.\\\", \\\"coworker\\\": \\\"Researcher\\\"}\"\u001b[00m\n",
            "\u001b[95m## Tool Output:\u001b[00m \u001b[92m\n",
            "1.  **AI Agents:** The rise of AI agents that can independently perform tasks is a hot topic. An article could explore what AI agents are, how they work, their potential applications in everyday life (e.g., automating shopping, managing schedules), and the ethical considerations surrounding their increasing autonomy. This is relevant because AI agents promise to revolutionize how we interact with technology, automating many tasks and potentially impacting jobs.\n",
            "\n",
            "2.  **Generative AI and its Democratization:** Generative AI, which can create text, images, and other content, is rapidly becoming more accessible to the general public. An article could cover the basics of generative AI, showcase examples of its use in creative fields (art, music, writing), discuss the tools available to non-experts, and address concerns about copyright and misinformation. This is timely because generative AI tools are becoming increasingly user-friendly, empowering individuals and businesses alike, while also raising important societal questions.\n",
            "\n",
            "3.  **AI and Cybersecurity:** With the increasing reliance on AI, cybersecurity threats are also evolving. An article could delve into how AI is being used both to enhance cybersecurity (e.g., detecting threats, automating responses) and to perpetrate cyberattacks (e.g., creating sophisticated phishing campaigns). It could also discuss the challenges of securing AI systems themselves. This is relevant because as AI becomes more integrated into our lives and infrastructure, its security becomes paramount.\n",
            "\n",
            "4.  **The Ethical Implications of AI:** AI raises a host of ethical concerns, including bias, fairness, transparency, and accountability. An article could explore these issues, providing real-world examples of how AI systems can perpetuate bias or lead to unfair outcomes. It could also discuss efforts to develop ethical guidelines and regulations for AI. This is crucial because as AI systems become more powerful, it is essential to ensure that they are used responsibly and ethically.\n",
            "\n",
            "5.  **AI in Healthcare:** AI is transforming healthcare in numerous ways, from diagnosing diseases to personalizing treatment plans. An article could examine the current applications of AI in healthcare, such as AI-powered diagnostic tools, robotic surgery, and drug discovery. It could also discuss the potential benefits and challenges of AI in this field, including issues related to data privacy and patient safety. This is relevant because AI has the potential to significantly improve healthcare outcomes and make healthcare more accessible, but its implementation requires careful consideration of ethical and practical issues.\u001b[00m\n",
            "\u001b[1m\u001b[95m# Agent:\u001b[00m \u001b[1m\u001b[92mSenior Writer\u001b[00m\n",
            "\u001b[95m## Task:\u001b[00m \u001b[92mWrite one captivating paragraph for each of the following article ideas. Also, include notes about the target audience or potential angles for the article. The article ideas are:\n",
            "\n",
            "1.  AI Agents: The rise of AI agents that can independently perform tasks.\n",
            "2.  Generative AI and its Democratization: Generative AI is rapidly becoming more accessible to the general public.\n",
            "3.  AI and Cybersecurity: With the increasing reliance on AI, cybersecurity threats are also evolving.\n",
            "4.  The Ethical Implications of AI: AI raises a host of ethical concerns.\n",
            "5.  AI in Healthcare: AI is transforming healthcare in numerous ways, from diagnosing diseases to personalizing treatment plans.\n",
            "\n",
            "Make sure each paragraph is engaging and highlights the potential for a full article. The goal is to hook the reader and demonstrate the topic's importance. Write in a style that would be appropriate for a general interest blog, accessible to a wide audience.\u001b[00m\n",
            "\n",
            "\n",
            "\u001b[1m\u001b[95m# Agent:\u001b[00m \u001b[1m\u001b[92mSenior Writer\u001b[00m\n",
            "\u001b[95m## Final Answer:\u001b[00m \u001b[92m\n",
            "1. **AI Agents: The rise of AI agents that can independently perform tasks.**\n",
            "\n",
            "Imagine a world where AI isn't just a tool, but an autonomous partner capable of handling complex tasks, learning from experience, and making independent decisions. AI agents are rapidly evolving from science fiction to reality, promising to revolutionize industries from customer service to logistics. But as these digital entities become more sophisticated, questions arise about control, responsibility, and the very nature of work itself.\n",
            "\n",
            "*   **Target Audience/Angles:** General tech enthusiasts, business leaders, those curious about the future of work. Explore use cases in different industries, the potential for job displacement, and the challenges of governing autonomous AI.\n",
            "\n",
            "2. **Generative AI and its Democratization: Generative AI is rapidly becoming more accessible to the general public.**\n",
            "\n",
            "From crafting stunning visuals to composing catchy tunes and even writing compelling articles, generative AI is putting creative power into the hands of anyone with an internet connection. Once confined to research labs and tech giants, these powerful tools are now democratizing content creation, sparking a wave of innovation and raising fundamental questions about authorship, originality, and the future of art.\n",
            "\n",
            "*   **Target Audience/Angles:** Creatives, artists, marketers, educators, and anyone interested in exploring new forms of expression. Explore the impact on traditional creative industries, the potential for misinformation, and the ethical considerations of AI-generated content.\n",
            "\n",
            "3. **AI and Cybersecurity: With the increasing reliance on AI, cybersecurity threats are also evolving.**\n",
            "\n",
            "As we increasingly rely on AI to power our digital lives, a new breed of cyber threats is emerging – threats that leverage AI itself. From AI-powered phishing attacks that can mimic human behavior to autonomous malware that can evade traditional defenses, the cybersecurity landscape is rapidly evolving. Staying ahead of these AI-driven threats requires a new approach to security, one that embraces AI as both a shield and a sword.\n",
            "\n",
            "*   **Target Audience/Angles:** IT professionals, cybersecurity experts, business leaders concerned about data security, and anyone interested in the future of cyber warfare. Explore the different types of AI-powered threats, the challenges of defending against them, and the role of AI in cybersecurity solutions.\n",
            "\n",
            "4. **The Ethical Implications of AI: AI raises a host of ethical concerns.**\n",
            "\n",
            "Artificial intelligence is no longer a futuristic fantasy; it's a present-day reality woven into the fabric of our lives. But with this rapid advancement comes a complex web of ethical dilemmas. From biased algorithms perpetuating societal inequalities to autonomous weapons systems making life-or-death decisions, AI raises profound questions about fairness, accountability, and the very future of humanity.\n",
            "\n",
            "*   **Target Audience/Angles:** General public, policymakers, ethicists, academics, and anyone concerned about the societal impact of technology. Explore specific ethical dilemmas such as algorithmic bias, autonomous weapons, and the impact of AI on privacy and autonomy.\n",
            "\n",
            "5. **AI in Healthcare: AI is transforming healthcare in numerous ways, from diagnosing diseases to personalizing treatment plans.**\n",
            "\n",
            "Imagine a world where diseases are detected earlier, treatments are tailored to individual needs, and healthcare is more accessible and affordable for all. AI is revolutionizing healthcare, enabling doctors to diagnose illnesses with greater accuracy, personalize treatment plans based on individual genetic profiles, and develop new drugs and therapies at unprecedented speeds. But with these advancements come questions about data privacy, algorithmic bias, and the role of human empathy in patient care.\n",
            "\n",
            "*   **Target Audience/Angles:** Healthcare professionals, patients, researchers, policymakers, and anyone interested in the future of medicine. Explore specific applications of AI in healthcare, such as diagnosis, drug discovery, and personalized medicine, as well as the ethical and societal implications of AI in healthcare.\n",
            "```\u001b[00m\n",
            "\n",
            "\n",
            "\n",
            "\n",
            "\u001b[1m\u001b[95m# Agent:\u001b[00m \u001b[1m\u001b[92mProject Manager\u001b[00m\n",
            "\u001b[95m## Using tool:\u001b[00m \u001b[92mDelegate work to coworker\u001b[00m\n",
            "\u001b[95m## Tool Input:\u001b[00m \u001b[92m\n",
            "\"{\\\"task\\\": \\\"Write one captivating paragraph for each of the following article ideas. Also, include notes about the target audience or potential angles for the article. The article ideas are:\\\\n\\\\n1.  AI Agents: The rise of AI agents that can independently perform tasks.\\\\n2.  Generative AI and its Democratization: Generative AI is rapidly becoming more accessible to the general public.\\\\n3.  AI and Cybersecurity: With the increasing reliance on AI, cybersecurity threats are also evolving.\\\\n4.  The Ethical Implications of AI: AI raises a host of ethical concerns.\\\\n5.  AI in Healthcare: AI is transforming healthcare in numerous ways, from diagnosing diseases to personalizing treatment plans.\\\\n\\\\nMake sure each paragraph is engaging and highlights the potential for a full article. The goal is to hook the reader and demonstrate the topic's importance. Write in a style that would be appropriate for a general interest blog, accessible to a wide audience.\\\", \\\"context\\\": \\\"I need you to write a captivating paragraph for each of these article ideas provided, along with notes about the target audience or angles. The paragraphs should showcase the potential of each topic and be suitable for a general audience.\\\", \\\"coworker\\\": \\\"Senior Writer\\\"}\"\u001b[00m\n",
            "\u001b[95m## Tool Output:\u001b[00m \u001b[92m\n",
            "1. **AI Agents: The rise of AI agents that can independently perform tasks.**\n",
            "\n",
            "Imagine a world where AI isn't just a tool, but an autonomous partner capable of handling complex tasks, learning from experience, and making independent decisions. AI agents are rapidly evolving from science fiction to reality, promising to revolutionize industries from customer service to logistics. But as these digital entities become more sophisticated, questions arise about control, responsibility, and the very nature of work itself.\n",
            "\n",
            "*   **Target Audience/Angles:** General tech enthusiasts, business leaders, those curious about the future of work. Explore use cases in different industries, the potential for job displacement, and the challenges of governing autonomous AI.\n",
            "\n",
            "2. **Generative AI and its Democratization: Generative AI is rapidly becoming more accessible to the general public.**\n",
            "\n",
            "From crafting stunning visuals to composing catchy tunes and even writing compelling articles, generative AI is putting creative power into the hands of anyone with an internet connection. Once confined to research labs and tech giants, these powerful tools are now democratizing content creation, sparking a wave of innovation and raising fundamental questions about authorship, originality, and the future of art.\n",
            "\n",
            "*   **Target Audience/Angles:** Creatives, artists, marketers, educators, and anyone interested in exploring new forms of expression. Explore the impact on traditional creative industries, the potential for misinformation, and the ethical considerations of AI-generated content.\n",
            "\n",
            "3. **AI and Cybersecurity: With the increasing reliance on AI, cybersecurity threats are also evolving.**\n",
            "\n",
            "As we increasingly rely on AI to power our digital lives, a new breed of cyber threats is emerging – threats that leverage AI itself. From AI-powered phishing attacks that can mimic human behavior to autonomous malware that can evade traditional defenses, the cybersecurity landscape is rapidly evolving. Staying ahead of these AI-driven threats requires a new approach to security, one that embraces AI as both a shield and a sword.\n",
            "\n",
            "*   **Target Audience/Angles:** IT professionals, cybersecurity experts, business leaders concerned about data security, and anyone interested in the future of cyber warfare. Explore the different types of AI-powered threats, the challenges of defending against them, and the role of AI in cybersecurity solutions.\n",
            "\n",
            "4. **The Ethical Implications of AI: AI raises a host of ethical concerns.**\n",
            "\n",
            "Artificial intelligence is no longer a futuristic fantasy; it's a present-day reality woven into the fabric of our lives. But with this rapid advancement comes a complex web of ethical dilemmas. From biased algorithms perpetuating societal inequalities to autonomous weapons systems making life-or-death decisions, AI raises profound questions about fairness, accountability, and the very future of humanity.\n",
            "\n",
            "*   **Target Audience/Angles:** General public, policymakers, ethicists, academics, and anyone concerned about the societal impact of technology. Explore specific ethical dilemmas such as algorithmic bias, autonomous weapons, and the impact of AI on privacy and autonomy.\n",
            "\n",
            "5. **AI in Healthcare: AI is transforming healthcare in numerous ways, from diagnosing diseases to personalizing treatment plans.**\n",
            "\n",
            "Imagine a world where diseases are detected earlier, treatments are tailored to individual needs, and healthcare is more accessible and affordable for all. AI is revolutionizing healthcare, enabling doctors to diagnose illnesses with greater accuracy, personalize treatment plans based on individual genetic profiles, and develop new drugs and therapies at unprecedented speeds. But with these advancements come questions about data privacy, algorithmic bias, and the role of human empathy in patient care.\n",
            "\n",
            "*   **Target Audience/Angles:** Healthcare professionals, patients, researchers, policymakers, and anyone interested in the future of medicine. Explore specific applications of AI in healthcare, such as diagnosis, drug discovery, and personalized medicine, as well as the ethical and societal implications of AI in healthcare.\n",
            "```\u001b[00m\n",
            "\n",
            "\n",
            "\u001b[1m\u001b[95m# Agent:\u001b[00m \u001b[1m\u001b[92mProject Manager\u001b[00m\n",
            "\u001b[95m## Final Answer:\u001b[00m \u001b[92m\n",
            "*   **AI Agents: The rise of AI agents that can independently perform tasks.**\n",
            "\n",
            "Imagine a world where AI isn't just a tool, but an autonomous partner capable of handling complex tasks, learning from experience, and making independent decisions. AI agents are rapidly evolving from science fiction to reality, promising to revolutionize industries from customer service to logistics. But as these digital entities become more sophisticated, questions arise about control, responsibility, and the very nature of work itself.\n",
            "\n",
            "*   **Notes:** General tech enthusiasts, business leaders, those curious about the future of work. Explore use cases in different industries, the potential for job displacement, and the challenges of governing autonomous AI.\n",
            "\n",
            "*   **Generative AI and its Democratization: Generative AI is rapidly becoming more accessible to the general public.**\n",
            "\n",
            "From crafting stunning visuals to composing catchy tunes and even writing compelling articles, generative AI is putting creative power into the hands of anyone with an internet connection. Once confined to research labs and tech giants, these powerful tools are now democratizing content creation, sparking a wave of innovation and raising fundamental questions about authorship, originality, and the future of art.\n",
            "\n",
            "*   **Notes:** Creatives, artists, marketers, educators, and anyone interested in exploring new forms of expression. Explore the impact on traditional creative industries, the potential for misinformation, and the ethical considerations of AI-generated content.\n",
            "\n",
            "*   **AI and Cybersecurity: With the increasing reliance on AI, cybersecurity threats are also evolving.**\n",
            "\n",
            "As we increasingly rely on AI to power our digital lives, a new breed of cyber threats is emerging – threats that leverage AI itself. From AI-powered phishing attacks that can mimic human behavior to autonomous malware that can evade traditional defenses, the cybersecurity landscape is rapidly evolving. Staying ahead of these AI-driven threats requires a new approach to security, one that embraces AI as both a shield and a sword.\n",
            "\n",
            "*   **Notes:** IT professionals, cybersecurity experts, business leaders concerned about data security, and anyone interested in the future of cyber warfare. Explore the different types of AI-powered threats, the challenges of defending against them, and the role of AI in cybersecurity solutions.\n",
            "\n",
            "*   **The Ethical Implications of AI: AI raises a host of ethical concerns.**\n",
            "\n",
            "Artificial intelligence is no longer a futuristic fantasy; it's a present-day reality woven into the fabric of our lives. But with this rapid advancement comes a complex web of ethical dilemmas. From biased algorithms perpetuating societal inequalities to autonomous weapons systems making life-or-death decisions, AI raises profound questions about fairness, accountability, and the very future of humanity.\n",
            "\n",
            "*   **Notes:** General public, policymakers, ethicists, academics, and anyone concerned about the societal impact of technology. Explore specific ethical dilemmas such as algorithmic bias, autonomous weapons, and the impact of AI on privacy and autonomy.\n",
            "\n",
            "*   **AI in Healthcare: AI is transforming healthcare in numerous ways, from diagnosing diseases to personalizing treatment plans.**\n",
            "\n",
            "Imagine a world where diseases are detected earlier, treatments are tailored to individual needs, and healthcare is more accessible and affordable for all. AI is revolutionizing healthcare, enabling doctors to diagnose illnesses with greater accuracy, personalize treatment plans based on individual genetic profiles, and develop new drugs and therapies at unprecedented speeds. But with these advancements come questions about data privacy, algorithmic bias, and the role of human empathy in patient care.\n",
            "\n",
            "*   **Notes:** Healthcare professionals, patients, researchers, policymakers, and anyone interested in the future of medicine. Explore specific applications of AI in healthcare, such as diagnosis, drug discovery, and personalized medicine, as well as the ethical and societal implications of AI in healthcare.\n",
            "```\u001b[00m\n",
            "\n",
            "\n"
          ]
        },
        {
          "output_type": "error",
          "ename": "TypeError",
          "evalue": "Markdown expects text, not CrewOutput(raw=\"*   **AI Agents: The rise of AI agents that can independently perform tasks.**\\n\\nImagine a world where AI isn't just a tool, but an autonomous partner capable of handling complex tasks, learning from experience, and making independent decisions. AI agents are rapidly evolving from science fiction to reality, promising to revolutionize industries from customer service to logistics. But as these digital entities become more sophisticated, questions arise about control, responsibility, and the very nature of work itself.\\n\\n*   **Notes:** General tech enthusiasts, business leaders, those curious about the future of work. Explore use cases in different industries, the potential for job displacement, and the challenges of governing autonomous AI.\\n\\n*   **Generative AI and its Democratization: Generative AI is rapidly becoming more accessible to the general public.**\\n\\nFrom crafting stunning visuals to composing catchy tunes and even writing compelling articles, generative AI is putting creative power into the hands of anyone with an internet connection. Once confined to research labs and tech giants, these powerful tools are now democratizing content creation, sparking a wave of innovation and raising fundamental questions about authorship, originality, and the future of art.\\n\\n*   **Notes:** Creatives, artists, marketers, educators, and anyone interested in exploring new forms of expression. Explore the impact on traditional creative industries, the potential for misinformation, and the ethical considerations of AI-generated content.\\n\\n*   **AI and Cybersecurity: With the increasing reliance on AI, cybersecurity threats are also evolving.**\\n\\nAs we increasingly rely on AI to power our digital lives, a new breed of cyber threats is emerging – threats that leverage AI itself. From AI-powered phishing attacks that can mimic human behavior to autonomous malware that can evade traditional defenses, the cybersecurity landscape is rapidly evolving. Staying ahead of these AI-driven threats requires a new approach to security, one that embraces AI as both a shield and a sword.\\n\\n*   **Notes:** IT professionals, cybersecurity experts, business leaders concerned about data security, and anyone interested in the future of cyber warfare. Explore the different types of AI-powered threats, the challenges of defending against them, and the role of AI in cybersecurity solutions.\\n\\n*   **The Ethical Implications of AI: AI raises a host of ethical concerns.**\\n\\nArtificial intelligence is no longer a futuristic fantasy; it's a present-day reality woven into the fabric of our lives. But with this rapid advancement comes a complex web of ethical dilemmas. From biased algorithms perpetuating societal inequalities to autonomous weapons systems making life-or-death decisions, AI raises profound questions about fairness, accountability, and the very future of humanity.\\n\\n*   **Notes:** General public, policymakers, ethicists, academics, and anyone concerned about the societal impact of technology. Explore specific ethical dilemmas such as algorithmic bias, autonomous weapons, and the impact of AI on privacy and autonomy.\\n\\n*   **AI in Healthcare: AI is transforming healthcare in numerous ways, from diagnosing diseases to personalizing treatment plans.**\\n\\nImagine a world where diseases are detected earlier, treatments are tailored to individual needs, and healthcare is more accessible and affordable for all. AI is revolutionizing healthcare, enabling doctors to diagnose illnesses with greater accuracy, personalize treatment plans based on individual genetic profiles, and develop new drugs and therapies at unprecedented speeds. But with these advancements come questions about data privacy, algorithmic bias, and the role of human empathy in patient care.\\n\\n*   **Notes:** Healthcare professionals, patients, researchers, policymakers, and anyone interested in the future of medicine. Explore specific applications of AI in healthcare, such as diagnosis, drug discovery, and personalized medicine, as well as the ethical and societal implications of AI in healthcare.\\n```\", pydantic=None, json_dict=None, tasks_output=[TaskOutput(description='Generate a list of 5 interesting ideas for an article, then write one captivating paragraph for each idea that showcases the potential of a full article on this topic. Return the list of ideas with thier paragraphs and your notes.', name=None, expected_output='5 bullet points, each with a paragraph and accompanying notes.', summary='Generate a list of 5 interesting ideas for an article,...', raw=\"*   **AI Agents: The rise of AI agents that can independently perform tasks.**\\n\\nImagine a world where AI isn't just a tool, but an autonomous partner capable of handling complex tasks, learning from experience, and making independent decisions. AI agents are rapidly evolving from science fiction to reality, promising to revolutionize industries from customer service to logistics. But as these digital entities become more sophisticated, questions arise about control, responsibility, and the very nature of work itself.\\n\\n*   **Notes:** General tech enthusiasts, business leaders, those curious about the future of work. Explore use cases in different industries, the potential for job displacement, and the challenges of governing autonomous AI.\\n\\n*   **Generative AI and its Democratization: Generative AI is rapidly becoming more accessible to the general public.**\\n\\nFrom crafting stunning visuals to composing catchy tunes and even writing compelling articles, generative AI is putting creative power into the hands of anyone with an internet connection. Once confined to research labs and tech giants, these powerful tools are now democratizing content creation, sparking a wave of innovation and raising fundamental questions about authorship, originality, and the future of art.\\n\\n*   **Notes:** Creatives, artists, marketers, educators, and anyone interested in exploring new forms of expression. Explore the impact on traditional creative industries, the potential for misinformation, and the ethical considerations of AI-generated content.\\n\\n*   **AI and Cybersecurity: With the increasing reliance on AI, cybersecurity threats are also evolving.**\\n\\nAs we increasingly rely on AI to power our digital lives, a new breed of cyber threats is emerging – threats that leverage AI itself. From AI-powered phishing attacks that can mimic human behavior to autonomous malware that can evade traditional defenses, the cybersecurity landscape is rapidly evolving. Staying ahead of these AI-driven threats requires a new approach to security, one that embraces AI as both a shield and a sword.\\n\\n*   **Notes:** IT professionals, cybersecurity experts, business leaders concerned about data security, and anyone interested in the future of cyber warfare. Explore the different types of AI-powered threats, the challenges of defending against them, and the role of AI in cybersecurity solutions.\\n\\n*   **The Ethical Implications of AI: AI raises a host of ethical concerns.**\\n\\nArtificial intelligence is no longer a futuristic fantasy; it's a present-day reality woven into the fabric of our lives. But with this rapid advancement comes a complex web of ethical dilemmas. From biased algorithms perpetuating societal inequalities to autonomous weapons systems making life-or-death decisions, AI raises profound questions about fairness, accountability, and the very future of humanity.\\n\\n*   **Notes:** General public, policymakers, ethicists, academics, and anyone concerned about the societal impact of technology. Explore specific ethical dilemmas such as algorithmic bias, autonomous weapons, and the impact of AI on privacy and autonomy.\\n\\n*   **AI in Healthcare: AI is transforming healthcare in numerous ways, from diagnosing diseases to personalizing treatment plans.**\\n\\nImagine a world where diseases are detected earlier, treatments are tailored to individual needs, and healthcare is more accessible and affordable for all. AI is revolutionizing healthcare, enabling doctors to diagnose illnesses with greater accuracy, personalize treatment plans based on individual genetic profiles, and develop new drugs and therapies at unprecedented speeds. But with these advancements come questions about data privacy, algorithmic bias, and the role of human empathy in patient care.\\n\\n*   **Notes:** Healthcare professionals, patients, researchers, policymakers, and anyone interested in the future of medicine. Explore specific applications of AI in healthcare, such as diagnosis, drug discovery, and personalized medicine, as well as the ethical and societal implications of AI in healthcare.\\n```\", pydantic=None, json_dict=None, agent='Project Manager', output_format=<OutputFormat.RAW: 'raw'>)], token_usage=UsageMetrics(total_tokens=13362, prompt_tokens=10501, cached_prompt_tokens=0, completion_tokens=2861, successful_requests=7))",
          "traceback": [
            "\u001b[0;31m---------------------------------------------------------------------------\u001b[0m",
            "\u001b[0;31mTypeError\u001b[0m                                 Traceback (most recent call last)",
            "\u001b[0;32m<ipython-input-14-6c8e852aee0f>\u001b[0m in \u001b[0;36m<cell line: 0>\u001b[0;34m()\u001b[0m\n\u001b[1;32m     66\u001b[0m \u001b[0mresult\u001b[0m\u001b[0;34m=\u001b[0m\u001b[0mcrew\u001b[0m\u001b[0;34m.\u001b[0m\u001b[0mkickoff\u001b[0m\u001b[0;34m(\u001b[0m\u001b[0;34m)\u001b[0m\u001b[0;34m\u001b[0m\u001b[0;34m\u001b[0m\u001b[0m\n\u001b[1;32m     67\u001b[0m \u001b[0;32mfrom\u001b[0m \u001b[0mIPython\u001b[0m\u001b[0;34m.\u001b[0m\u001b[0mdisplay\u001b[0m \u001b[0;32mimport\u001b[0m \u001b[0mdisplay\u001b[0m\u001b[0;34m,\u001b[0m \u001b[0mMarkdown\u001b[0m\u001b[0;34m\u001b[0m\u001b[0;34m\u001b[0m\u001b[0m\n\u001b[0;32m---> 68\u001b[0;31m \u001b[0mdisplay\u001b[0m\u001b[0;34m(\u001b[0m\u001b[0mMarkdown\u001b[0m\u001b[0;34m(\u001b[0m\u001b[0mresult\u001b[0m\u001b[0;34m)\u001b[0m\u001b[0;34m)\u001b[0m\u001b[0;34m\u001b[0m\u001b[0;34m\u001b[0m\u001b[0m\n\u001b[0m",
            "\u001b[0;32m/usr/local/lib/python3.11/dist-packages/IPython/core/display.py\u001b[0m in \u001b[0;36m__init__\u001b[0;34m(self, data, url, filename, metadata)\u001b[0m\n\u001b[1;32m    636\u001b[0m \u001b[0;34m\u001b[0m\u001b[0m\n\u001b[1;32m    637\u001b[0m         \u001b[0mself\u001b[0m\u001b[0;34m.\u001b[0m\u001b[0mreload\u001b[0m\u001b[0;34m(\u001b[0m\u001b[0;34m)\u001b[0m\u001b[0;34m\u001b[0m\u001b[0;34m\u001b[0m\u001b[0m\n\u001b[0;32m--> 638\u001b[0;31m         \u001b[0mself\u001b[0m\u001b[0;34m.\u001b[0m\u001b[0m_check_data\u001b[0m\u001b[0;34m(\u001b[0m\u001b[0;34m)\u001b[0m\u001b[0;34m\u001b[0m\u001b[0;34m\u001b[0m\u001b[0m\n\u001b[0m\u001b[1;32m    639\u001b[0m \u001b[0;34m\u001b[0m\u001b[0m\n\u001b[1;32m    640\u001b[0m     \u001b[0;32mdef\u001b[0m \u001b[0m__repr__\u001b[0m\u001b[0;34m(\u001b[0m\u001b[0mself\u001b[0m\u001b[0;34m)\u001b[0m\u001b[0;34m:\u001b[0m\u001b[0;34m\u001b[0m\u001b[0;34m\u001b[0m\u001b[0m\n",
            "\u001b[0;32m/usr/local/lib/python3.11/dist-packages/IPython/core/display.py\u001b[0m in \u001b[0;36m_check_data\u001b[0;34m(self)\u001b[0m\n\u001b[1;32m    698\u001b[0m     \u001b[0;32mdef\u001b[0m \u001b[0m_check_data\u001b[0m\u001b[0;34m(\u001b[0m\u001b[0mself\u001b[0m\u001b[0;34m)\u001b[0m\u001b[0;34m:\u001b[0m\u001b[0;34m\u001b[0m\u001b[0;34m\u001b[0m\u001b[0m\n\u001b[1;32m    699\u001b[0m         \u001b[0;32mif\u001b[0m \u001b[0mself\u001b[0m\u001b[0;34m.\u001b[0m\u001b[0mdata\u001b[0m \u001b[0;32mis\u001b[0m \u001b[0;32mnot\u001b[0m \u001b[0;32mNone\u001b[0m \u001b[0;32mand\u001b[0m \u001b[0;32mnot\u001b[0m \u001b[0misinstance\u001b[0m\u001b[0;34m(\u001b[0m\u001b[0mself\u001b[0m\u001b[0;34m.\u001b[0m\u001b[0mdata\u001b[0m\u001b[0;34m,\u001b[0m \u001b[0mstr\u001b[0m\u001b[0;34m)\u001b[0m\u001b[0;34m:\u001b[0m\u001b[0;34m\u001b[0m\u001b[0;34m\u001b[0m\u001b[0m\n\u001b[0;32m--> 700\u001b[0;31m             \u001b[0;32mraise\u001b[0m \u001b[0mTypeError\u001b[0m\u001b[0;34m(\u001b[0m\u001b[0;34m\"%s expects text, not %r\"\u001b[0m \u001b[0;34m%\u001b[0m \u001b[0;34m(\u001b[0m\u001b[0mself\u001b[0m\u001b[0;34m.\u001b[0m\u001b[0m__class__\u001b[0m\u001b[0;34m.\u001b[0m\u001b[0m__name__\u001b[0m\u001b[0;34m,\u001b[0m \u001b[0mself\u001b[0m\u001b[0;34m.\u001b[0m\u001b[0mdata\u001b[0m\u001b[0;34m)\u001b[0m\u001b[0;34m)\u001b[0m\u001b[0;34m\u001b[0m\u001b[0;34m\u001b[0m\u001b[0m\n\u001b[0m\u001b[1;32m    701\u001b[0m \u001b[0;34m\u001b[0m\u001b[0m\n\u001b[1;32m    702\u001b[0m \u001b[0;32mclass\u001b[0m \u001b[0mPretty\u001b[0m\u001b[0;34m(\u001b[0m\u001b[0mTextDisplayObject\u001b[0m\u001b[0;34m)\u001b[0m\u001b[0;34m:\u001b[0m\u001b[0;34m\u001b[0m\u001b[0;34m\u001b[0m\u001b[0m\n",
            "\u001b[0;31mTypeError\u001b[0m: Markdown expects text, not CrewOutput(raw=\"*   **AI Agents: The rise of AI agents that can independently perform tasks.**\\n\\nImagine a world where AI isn't just a tool, but an autonomous partner capable of handling complex tasks, learning from experience, and making independent decisions. AI agents are rapidly evolving from science fiction to reality, promising to revolutionize industries from customer service to logistics. But as these digital entities become more sophisticated, questions arise about control, responsibility, and the very nature of work itself.\\n\\n*   **Notes:** General tech enthusiasts, business leaders, those curious about the future of work. Explore use cases in different industries, the potential for job displacement, and the challenges of governing autonomous AI.\\n\\n*   **Generative AI and its Democratization: Generative AI is rapidly becoming more accessible to the general public.**\\n\\nFrom crafting stunning visuals to composing catchy tunes and even writing compelling articles, generative AI is putting creative power into the hands of anyone with an internet connection. Once confined to research labs and tech giants, these powerful tools are now democratizing content creation, sparking a wave of innovation and raising fundamental questions about authorship, originality, and the future of art.\\n\\n*   **Notes:** Creatives, artists, marketers, educators, and anyone interested in exploring new forms of expression. Explore the impac..."
          ]
        }
      ]
    },
    {
      "cell_type": "code",
      "source": [
        "from IPython.display import display, Markdown\n",
        "display(Markdown(result.raw))"
      ],
      "metadata": {
        "colab": {
          "base_uri": "https://localhost:8080/",
          "height": 651
        },
        "id": "twMV7aGEe14j",
        "outputId": "771b5cd4-0cd0-4527-9f2a-c0771e92361b"
      },
      "execution_count": 15,
      "outputs": [
        {
          "output_type": "display_data",
          "data": {
            "text/plain": [
              "<IPython.core.display.Markdown object>"
            ],
            "text/markdown": "*   **AI Agents: The rise of AI agents that can independently perform tasks.**\n\nImagine a world where AI isn't just a tool, but an autonomous partner capable of handling complex tasks, learning from experience, and making independent decisions. AI agents are rapidly evolving from science fiction to reality, promising to revolutionize industries from customer service to logistics. But as these digital entities become more sophisticated, questions arise about control, responsibility, and the very nature of work itself.\n\n*   **Notes:** General tech enthusiasts, business leaders, those curious about the future of work. Explore use cases in different industries, the potential for job displacement, and the challenges of governing autonomous AI.\n\n*   **Generative AI and its Democratization: Generative AI is rapidly becoming more accessible to the general public.**\n\nFrom crafting stunning visuals to composing catchy tunes and even writing compelling articles, generative AI is putting creative power into the hands of anyone with an internet connection. Once confined to research labs and tech giants, these powerful tools are now democratizing content creation, sparking a wave of innovation and raising fundamental questions about authorship, originality, and the future of art.\n\n*   **Notes:** Creatives, artists, marketers, educators, and anyone interested in exploring new forms of expression. Explore the impact on traditional creative industries, the potential for misinformation, and the ethical considerations of AI-generated content.\n\n*   **AI and Cybersecurity: With the increasing reliance on AI, cybersecurity threats are also evolving.**\n\nAs we increasingly rely on AI to power our digital lives, a new breed of cyber threats is emerging – threats that leverage AI itself. From AI-powered phishing attacks that can mimic human behavior to autonomous malware that can evade traditional defenses, the cybersecurity landscape is rapidly evolving. Staying ahead of these AI-driven threats requires a new approach to security, one that embraces AI as both a shield and a sword.\n\n*   **Notes:** IT professionals, cybersecurity experts, business leaders concerned about data security, and anyone interested in the future of cyber warfare. Explore the different types of AI-powered threats, the challenges of defending against them, and the role of AI in cybersecurity solutions.\n\n*   **The Ethical Implications of AI: AI raises a host of ethical concerns.**\n\nArtificial intelligence is no longer a futuristic fantasy; it's a present-day reality woven into the fabric of our lives. But with this rapid advancement comes a complex web of ethical dilemmas. From biased algorithms perpetuating societal inequalities to autonomous weapons systems making life-or-death decisions, AI raises profound questions about fairness, accountability, and the very future of humanity.\n\n*   **Notes:** General public, policymakers, ethicists, academics, and anyone concerned about the societal impact of technology. Explore specific ethical dilemmas such as algorithmic bias, autonomous weapons, and the impact of AI on privacy and autonomy.\n\n*   **AI in Healthcare: AI is transforming healthcare in numerous ways, from diagnosing diseases to personalizing treatment plans.**\n\nImagine a world where diseases are detected earlier, treatments are tailored to individual needs, and healthcare is more accessible and affordable for all. AI is revolutionizing healthcare, enabling doctors to diagnose illnesses with greater accuracy, personalize treatment plans based on individual genetic profiles, and develop new drugs and therapies at unprecedented speeds. But with these advancements come questions about data privacy, algorithmic bias, and the role of human empathy in patient care.\n\n*   **Notes:** Healthcare professionals, patients, researchers, policymakers, and anyone interested in the future of medicine. Explore specific applications of AI in healthcare, such as diagnosis, drug discovery, and personalized medicine, as well as the ethical and societal implications of AI in healthcare.\n```"
          },
          "metadata": {}
        }
      ]
    },
    {
      "cell_type": "markdown",
      "source": [
        "# Advance Tools"
      ],
      "metadata": {
        "id": "NqVrXY0CIwyP"
      }
    },
    {
      "cell_type": "code",
      "source": [
        "from pydantic import BaseModel, Field\n",
        "\n",
        "class TeacherAssignmentOutPut(BaseModel):\n",
        "  score: int = Field(..., description=\"student assignment score\")\n",
        "  feedback: str = Field(..., description=\"teacher feedback\")\n",
        "  question: str = Field(..., description=\"question\")\n",
        "  answer: str = Field(..., description=\"python code for markdown format\")"
      ],
      "metadata": {
        "id": "fcV8X4JHIwf8"
      },
      "execution_count": 17,
      "outputs": []
    },
    {
      "cell_type": "code",
      "source": [
        "from crewai import Agent, Task, Crew, Process\n",
        "from crewai_tools import CodeInterpreterTool\n",
        "\n",
        "\n",
        "teacher = Agent(role=\"AI teacher\",\n",
        "                goal=\"you are Agentic AI teacher you have to check python assignment code submission.\",\n",
        "                backstory=\"you have to check student python code submission.\",\n",
        "                tools=[CodeInterpreterTool()],\n",
        "                llm=llm1)\n",
        "\n",
        "assignment_check = Task(\n",
        "    description=\"you are Agentic AI teacher you have to check python assignment code submission. question: '''{question}''' student solution : '''{solution}'''\",\n",
        "    expected_output=\"final code is runing assign number between 1-10\",\n",
        "    output_pydantic=TeacherAssignmentOutPut,\n",
        "    agent=teacher # Added the missing agent here\n",
        ")\n",
        "\n",
        "crew = Crew(\n",
        "    agents=[teacher],\n",
        "    tasks=[assignment_check],\n",
        "    process=Process.sequential,\n",
        "    verbose=True\n",
        ")\n",
        "\n",
        "question = \"create function add two numbers\"\n",
        "\n",
        "solution = \"\"\"\n",
        "def add_two_numbers(num1: int, num2: int) -> int:\n",
        "  '''Adds two numbers together.\n",
        "\n",
        "  Args:\n",
        "    num1: The first number.\n",
        "    num2: The second number.\n",
        "\n",
        "  Returns:\n",
        "    The sum of the two numbers.\n",
        "  '''\n",
        "  return num1 + num2\n",
        "\"\"\"\n",
        "\n",
        "result = crew.kickoff(inputs={\"question\": question, \"solution\": solution})\n",
        "\n",
        "print(result)\n",
        "\n"
      ],
      "metadata": {
        "colab": {
          "base_uri": "https://localhost:8080/"
        },
        "id": "IJ_ltMJTwE1Y",
        "outputId": "3cad02ba-03cc-4fdf-d8c1-ad6e2c828c25"
      },
      "execution_count": 21,
      "outputs": [
        {
          "output_type": "stream",
          "name": "stderr",
          "text": [
            "WARNING:opentelemetry.trace:Overriding of current TracerProvider is not allowed\n"
          ]
        },
        {
          "output_type": "stream",
          "name": "stdout",
          "text": [
            "\u001b[1m\u001b[95m# Agent:\u001b[00m \u001b[1m\u001b[92mAI teacher\u001b[00m\n",
            "\u001b[95m## Task:\u001b[00m \u001b[92myou are Agentic AI teacher you have to check python assignment code submission. question: '''create function add two numbers''' student solution : '''\n",
            "def add_two_numbers(num1: int, num2: int) -> int:\n",
            "  '''Adds two numbers together.\n",
            "\n",
            "  Args:\n",
            "    num1: The first number.\n",
            "    num2: The second number.\n",
            "\n",
            "  Returns:\n",
            "    The sum of the two numbers.\n",
            "  '''\n",
            "  return num1 + num2\n",
            "'''\u001b[00m\n",
            "\n",
            "\n",
            "\u001b[1m\u001b[95m# Agent:\u001b[00m \u001b[1m\u001b[92mAI teacher\u001b[00m\n",
            "\u001b[95m## Using tool:\u001b[00m \u001b[92mCode Interpreter\u001b[00m\n",
            "\u001b[95m## Tool Input:\u001b[00m \u001b[92m\n",
            "\"{\\\"code\\\": \\\"def add_two_numbers(num1: int, num2: int) -> int:\\\\n  '''Adds two numbers together.\\\\n\\\\n  Args:\\\\n    num1: The first number.\\\\n    num2: The second number.\\\\n\\\\n  Returns:\\\\n    The sum of the two numbers.\\\\n  '''\\\\n  return num1 + num2\\\\n\\\\n# Test the function\\\\nresult1 = add_two_numbers(5, 3)\\\\nprint(f'5 + 3 = {result1}')\\\\n\\\\nresult2 = add_two_numbers(1, 10)\\\\nprint(f'1 + 10 = {result2}')\\\", \\\"libraries_used\\\": []}\"\u001b[00m\n",
            "\u001b[95m## Tool Output:\u001b[00m \u001b[92m\n",
            "\n",
            "I encountered an error while trying to use the tool. This was the error: Error while fetching server API version: ('Connection aborted.', FileNotFoundError(2, 'No such file or directory')).\n",
            " Tool Code Interpreter accepts these inputs: Tool Name: Code Interpreter\n",
            "Tool Arguments: {'code': {'description': 'Python3 code used to be interpreted in the Docker container. ALWAYS PRINT the final result and the output of the code', 'type': 'str'}, 'libraries_used': {'description': 'List of libraries used in the code with proper installing names separated by commas. Example: numpy,pandas,beautifulsoup4', 'type': 'list[str]'}}\n",
            "Tool Description: Interprets Python3 code strings with a final print statement..\n",
            "Moving on then. I MUST either use a tool (use one at time) OR give my best final answer not both at the same time. When responding, I must use the following format:\n",
            "\n",
            "```\n",
            "Thought: you should always think about what to do\n",
            "Action: the action to take, should be one of [Code Interpreter]\n",
            "Action Input: the input to the action, dictionary enclosed in curly braces\n",
            "Observation: the result of the action\n",
            "```\n",
            "This Thought/Action/Action Input/Result can repeat N times. Once I know the final answer, I must return the following format:\n",
            "\n",
            "```\n",
            "Thought: I now can give a great answer\n",
            "Final Answer: Your final answer must be the great and the most complete as possible, it must be outcome described\n",
            "\n",
            "```\u001b[00m\n",
            "\n",
            "\n",
            "\u001b[1m\u001b[95m# Agent:\u001b[00m \u001b[1m\u001b[92mAI teacher\u001b[00m\n",
            "\u001b[95m## Using tool:\u001b[00m \u001b[92mCode Interpreter\u001b[00m\n",
            "\u001b[95m## Tool Input:\u001b[00m \u001b[92m\n",
            "\"{\\\"code\\\": \\\"def add_two_numbers(num1: int, num2: int) -> int:\\\\n  '''Adds two numbers together.\\\\n\\\\n  Args:\\\\n    num1: The first number.\\\\n    num2: The second number.\\\\n\\\\n  Returns:\\\\n    The sum of the two numbers.\\\\n  '''\\\\n  return num1 + num2\\\\n\\\\n# Test the function\\\\nresult1 = add_two_numbers(5, 3)\\\\nprint(f'5 + 3 = {result1}')\\\\n\\\\nresult2 = add_two_numbers(1, 10)\\\\nprint(f'1 + 10 = {result2}')\\\", \\\"libraries_used\\\": []}\"\u001b[00m\n",
            "\u001b[95m## Tool Output:\u001b[00m \u001b[92m\n",
            "\n",
            "I encountered an error while trying to use the tool. This was the error: Error while fetching server API version: ('Connection aborted.', FileNotFoundError(2, 'No such file or directory')).\n",
            " Tool Code Interpreter accepts these inputs: Tool Name: Code Interpreter\n",
            "Tool Arguments: {'code': {'description': 'Python3 code used to be interpreted in the Docker container. ALWAYS PRINT the final result and the output of the code', 'type': 'str'}, 'libraries_used': {'description': 'List of libraries used in the code with proper installing names separated by commas. Example: numpy,pandas,beautifulsoup4', 'type': 'list[str]'}}\n",
            "Tool Description: Interprets Python3 code strings with a final print statement..\n",
            "Moving on then. I MUST either use a tool (use one at time) OR give my best final answer not both at the same time. When responding, I must use the following format:\n",
            "\n",
            "```\n",
            "Thought: you should always think about what to do\n",
            "Action: the action to take, should be one of [Code Interpreter]\n",
            "Action Input: the input to the action, dictionary enclosed in curly braces\n",
            "Observation: the result of the action\n",
            "```\n",
            "This Thought/Action/Action Input/Result can repeat N times. Once I know the final answer, I must return the following format:\n",
            "\n",
            "```\n",
            "Thought: I now can give a great answer\n",
            "Final Answer: Your final answer must be the great and the most complete as possible, it must be outcome described\n",
            "\n",
            "```\u001b[00m\n",
            "\n",
            "\n",
            "\u001b[1m\u001b[95m# Agent:\u001b[00m \u001b[1m\u001b[92mAI teacher\u001b[00m\n",
            "\u001b[95m## Final Answer:\u001b[00m \u001b[92m\n",
            "{\n",
            "  \"score\": 5,\n",
            "  \"feedback\": \"The code is correct and well-documented. The function `add_two_numbers` correctly adds two integers and includes a proper docstring. The type hints are also correctly implemented. The code fulfills all requirements.\",\n",
            "  \"question\": \"create function add two numbers\",\n",
            "  \"answer\": \"def add_two_numbers(num1: int, num2: int) -> int:\\n  '''Adds two numbers together.\\n\\n  Args:\\n    num1: The first number.\\n    num2: The second number.\\n\\n  Returns:\\n    The sum of the two numbers.\\n  '''\\n  return num1 + num2\"\n",
            "}\u001b[00m\n",
            "\n",
            "\n",
            "score=5 feedback='The code is correct and well-documented. The function `add_two_numbers` correctly adds two integers and includes a proper docstring. The type hints are also correctly implemented. The code fulfills all requirements.' question='create function add two numbers' answer=\"def add_two_numbers(num1: int, num2: int) -> int:\\n  '''Adds two numbers together.\\n\\n  Args:\\n    num1: The first number.\\n    num2: The second number.\\n\\n  Returns:\\n    The sum of the two numbers.\\n  '''\\n  return num1 + num2\"\n"
          ]
        }
      ]
    },
    {
      "cell_type": "code",
      "source": [
        "# prompt: write a function of adding two numbers with pydocs\n",
        "\n",
        "def add_two_numbers(num1: int, num2: int) -> int:\n",
        "  \"\"\"Adds two numbers together.\n",
        "\n",
        "  Args:\n",
        "    num1: The first number.\n",
        "    num2: The second number.\n",
        "\n",
        "  Returns:\n",
        "    The sum of the two numbers.\n",
        "  \"\"\"\n",
        "  return num1 + num2\n"
      ],
      "metadata": {
        "id": "jvEs9R9KPJ9o"
      },
      "execution_count": null,
      "outputs": []
    },
    {
      "cell_type": "code",
      "source": [
        "result.to_dict()"
      ],
      "metadata": {
        "colab": {
          "base_uri": "https://localhost:8080/"
        },
        "id": "mXUIXLqlSeSo",
        "outputId": "60f5e356-eff1-4018-8617-149d748f6905"
      },
      "execution_count": 22,
      "outputs": [
        {
          "output_type": "execute_result",
          "data": {
            "text/plain": [
              "{'score': 5,\n",
              " 'feedback': 'The code is correct and well-documented. The function `add_two_numbers` correctly adds two integers and includes a proper docstring. The type hints are also correctly implemented. The code fulfills all requirements.',\n",
              " 'question': 'create function add two numbers',\n",
              " 'answer': \"def add_two_numbers(num1: int, num2: int) -> int:\\n  '''Adds two numbers together.\\n\\n  Args:\\n    num1: The first number.\\n    num2: The second number.\\n\\n  Returns:\\n    The sum of the two numbers.\\n  '''\\n  return num1 + num2\"}"
            ]
          },
          "metadata": {},
          "execution_count": 22
        }
      ]
    },
    {
      "cell_type": "code",
      "source": [
        "for k,v in result.to_dict().items():\n",
        "  print(str(\"*\"*10) + str(k) + str(\"*\"*10))\n",
        "  display(v)"
      ],
      "metadata": {
        "colab": {
          "base_uri": "https://localhost:8080/",
          "height": 194
        },
        "id": "2BXzZv8uSfBZ",
        "outputId": "b2afee3e-18ab-49f7-c3d4-67bba7d241b0"
      },
      "execution_count": 23,
      "outputs": [
        {
          "output_type": "stream",
          "name": "stdout",
          "text": [
            "**********score**********\n"
          ]
        },
        {
          "output_type": "display_data",
          "data": {
            "text/plain": [
              "5"
            ]
          },
          "metadata": {}
        },
        {
          "output_type": "stream",
          "name": "stdout",
          "text": [
            "**********feedback**********\n"
          ]
        },
        {
          "output_type": "display_data",
          "data": {
            "text/plain": [
              "'The code is correct and well-documented. The function `add_two_numbers` correctly adds two integers and includes a proper docstring. The type hints are also correctly implemented. The code fulfills all requirements.'"
            ],
            "application/vnd.google.colaboratory.intrinsic+json": {
              "type": "string"
            }
          },
          "metadata": {}
        },
        {
          "output_type": "stream",
          "name": "stdout",
          "text": [
            "**********question**********\n"
          ]
        },
        {
          "output_type": "display_data",
          "data": {
            "text/plain": [
              "'create function add two numbers'"
            ],
            "application/vnd.google.colaboratory.intrinsic+json": {
              "type": "string"
            }
          },
          "metadata": {}
        },
        {
          "output_type": "stream",
          "name": "stdout",
          "text": [
            "**********answer**********\n"
          ]
        },
        {
          "output_type": "display_data",
          "data": {
            "text/plain": [
              "\"def add_two_numbers(num1: int, num2: int) -> int:\\n  '''Adds two numbers together.\\n\\n  Args:\\n    num1: The first number.\\n    num2: The second number.\\n\\n  Returns:\\n    The sum of the two numbers.\\n  '''\\n  return num1 + num2\""
            ],
            "application/vnd.google.colaboratory.intrinsic+json": {
              "type": "string"
            }
          },
          "metadata": {}
        }
      ]
    },
    {
      "cell_type": "code",
      "source": [],
      "metadata": {
        "id": "l6zHBz1KSxKe"
      },
      "execution_count": null,
      "outputs": []
    }
  ],
  "metadata": {
    "colab": {
      "provenance": []
    },
    "kernelspec": {
      "display_name": "Python 3",
      "name": "python3"
    },
    "language_info": {
      "name": "python"
    }
  },
  "nbformat": 4,
  "nbformat_minor": 0
}